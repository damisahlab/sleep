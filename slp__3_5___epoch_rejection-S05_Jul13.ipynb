{
 "cells": [
  {
   "attachments": {},
   "cell_type": "markdown",
   "metadata": {},
   "source": [
    "### Configuration"
   ]
  },
  {
   "cell_type": "code",
   "execution_count": 1,
   "metadata": {},
   "outputs": [
    {
     "name": "stderr",
     "output_type": "stream",
     "text": [
      "c:\\Users\\lal85\\AppData\\Local\\miniconda3\\envs\\boss\\Lib\\site-packages\\mne_features\\utils.py:21: NumbaDeprecationWarning: \u001b[1mThe 'nopython' keyword argument was not supplied to the 'numba.jit' decorator. The implicit default value for this argument is currently False, but it will be changed to True in Numba 0.59.0. See https://numba.readthedocs.io/en/stable/reference/deprecation.html#deprecation-of-object-mode-fall-back-behaviour-when-using-jit for details.\u001b[0m\n",
      "  @nb.jit()\n"
     ]
    }
   ],
   "source": [
    "import os\n",
    "import numpy as np\n",
    "import pandas as pd\n",
    "import xarray as xr\n",
    "\n",
    "import mne\n",
    "import yasa\n",
    "from scipy.stats import zscore\n",
    "import mne_features as mf\n",
    "from mne_features.feature_extraction import extract_features\n",
    "from sklearn.neighbors import LocalOutlierFactor\n",
    "\n",
    "from utils__helpers_macro import robust_zscore\n",
    "import utils__config"
   ]
  },
  {
   "cell_type": "code",
   "execution_count": 2,
   "metadata": {},
   "outputs": [
    {
     "data": {
      "text/plain": [
       "'Z:\\\\Layton\\\\Sleep_083023'"
      ]
     },
     "execution_count": 2,
     "metadata": {},
     "output_type": "execute_result"
    }
   ],
   "source": [
    "os.chdir(utils__config.working_directory)\n",
    "os.getcwd()"
   ]
  },
  {
   "attachments": {},
   "cell_type": "markdown",
   "metadata": {},
   "source": [
    "### Parameters"
   ]
  },
  {
   "cell_type": "code",
   "execution_count": 3,
   "metadata": {},
   "outputs": [],
   "source": [
    "fif_path = 'Cache/Subject05/Jul13/S05_Jul13_256hz.fif'\n",
    "potato_path = 'Cache/Subject05/Jul13/S05_Jul13_potatogram.csv'\n",
    "bad_channel_path = 'Cache/Subject05/Jul13/S05_bad_channels.csv'\n",
    "bad_epoch_path = 'Cache/Subject05/Jul13/S05_bad_epochs.csv'"
   ]
  },
  {
   "attachments": {},
   "cell_type": "markdown",
   "metadata": {},
   "source": [
    "Please note that the number of samples must be whole-number divisible by (sampling_freq * epoch_length)"
   ]
  },
  {
   "cell_type": "code",
   "execution_count": 4,
   "metadata": {},
   "outputs": [],
   "source": [
    "sampling_freq = 256 # Hz\n",
    "epoch_length = 3 # seconds\n",
    "lof_threshold = -2\n",
    "chan_threshold = 3"
   ]
  },
  {
   "attachments": {},
   "cell_type": "markdown",
   "metadata": {},
   "source": [
    "### Load Data"
   ]
  },
  {
   "cell_type": "code",
   "execution_count": 5,
   "metadata": {},
   "outputs": [
    {
     "name": "stderr",
     "output_type": "stream",
     "text": [
      "C:\\Users\\lal85\\AppData\\Local\\Temp\\2\\ipykernel_34568\\3029478263.py:1: RuntimeWarning: This filename (Cache/Subject05/Jul13/S05_Jul13_256hz.fif) does not conform to MNE naming conventions. All raw files should end with raw.fif, raw_sss.fif, raw_tsss.fif, _meg.fif, _eeg.fif, _ieeg.fif, raw.fif.gz, raw_sss.fif.gz, raw_tsss.fif.gz, _meg.fif.gz, _eeg.fif.gz or _ieeg.fif.gz\n",
      "  raw = mne.io.read_raw_fif(fif_path, preload = True, verbose = False)\n"
     ]
    },
    {
     "name": "stdout",
     "output_type": "stream",
     "text": [
      "NOTE: pick_types() is a legacy function. New code should use inst.pick(...).\n",
      "Channel count after bad channel removal: 49\n"
     ]
    }
   ],
   "source": [
    "raw = mne.io.read_raw_fif(fif_path, preload = True, verbose = False)\n",
    "\n",
    "# Select only macroelectrodes\n",
    "raw.pick_types(seeg = True, ecog = True)\n",
    "\n",
    "# Remove bad channels\n",
    "bad_channels = pd.read_csv(bad_channel_path)\n",
    "bad_channels = bad_channels[bad_channels['channel'].isin(raw.ch_names)]\n",
    "raw.drop_channels(ch_names = bad_channels['channel'].astype('string'))\n",
    "print('Channel count after bad channel removal:', len(raw.ch_names))\n",
    "\n",
    "# Load the upsampled hypnogram\n",
    "hypnogram = np.loadtxt(potato_path, delimiter = ',')"
   ]
  },
  {
   "attachments": {},
   "cell_type": "markdown",
   "metadata": {},
   "source": [
    "### Epoch Data"
   ]
  },
  {
   "attachments": {},
   "cell_type": "markdown",
   "metadata": {},
   "source": [
    "Add hypnogram as a channel to the Raw object"
   ]
  },
  {
   "cell_type": "code",
   "execution_count": 6,
   "metadata": {},
   "outputs": [
    {
     "name": "stdout",
     "output_type": "stream",
     "text": [
      "Creating RawArray with float64 data, n_channels=1, n_times=9584640\n",
      "    Range : 0 ... 9584639 =      0.000 ... 37439.996 secs\n",
      "Ready.\n"
     ]
    },
    {
     "data": {
      "text/html": [
       "<table class=\"table table-hover table-striped table-sm table-responsive small\">\n",
       "    <tr>\n",
       "        <th>Measurement date</th>\n",
       "        \n",
       "        <td>July 13, 2023  23:00:43 GMT</td>\n",
       "        \n",
       "    </tr>\n",
       "    <tr>\n",
       "        <th>Experimenter</th>\n",
       "        \n",
       "        <td>Unknown</td>\n",
       "        \n",
       "    </tr>\n",
       "        <th>Participant</th>\n",
       "        \n",
       "        <td>Unknown</td>\n",
       "        \n",
       "    </tr>\n",
       "    <tr>\n",
       "        <th>Digitized points</th>\n",
       "        \n",
       "        <td>0 points</td>\n",
       "        \n",
       "    </tr>\n",
       "    <tr>\n",
       "        <th>Good channels</th>\n",
       "        <td>49 sEEG, 1 misc</td>\n",
       "    </tr>\n",
       "    <tr>\n",
       "        <th>Bad channels</th>\n",
       "        <td>None</td>\n",
       "    </tr>\n",
       "    <tr>\n",
       "        <th>EOG channels</th>\n",
       "        <td>Not available</td>\n",
       "    </tr>\n",
       "    <tr>\n",
       "        <th>ECG channels</th>\n",
       "        <td>Not available</td>\n",
       "    \n",
       "    <tr>\n",
       "        <th>Sampling frequency</th>\n",
       "        <td>256.00 Hz</td>\n",
       "    </tr>\n",
       "    \n",
       "    \n",
       "    <tr>\n",
       "        <th>Highpass</th>\n",
       "        <td>0.00 Hz</td>\n",
       "    </tr>\n",
       "    \n",
       "    \n",
       "    <tr>\n",
       "        <th>Lowpass</th>\n",
       "        <td>128.00 Hz</td>\n",
       "    </tr>\n",
       "    \n",
       "    \n",
       "    \n",
       "    <tr>\n",
       "        <th>Filenames</th>\n",
       "        <td>S05_Jul13_256hz.fif&lt;br&gt;S05_Jul13_256hz-1.fif</td>\n",
       "    </tr>\n",
       "    \n",
       "    <tr>\n",
       "        <th>Duration</th>\n",
       "        <td>10:23:60 (HH:MM:SS)</td>\n",
       "    </tr>\n",
       "</table>"
      ],
      "text/plain": [
       "<Raw | S05_Jul13_256hz.fif, 50 x 9584640 (37440.0 s), ~3.57 GB, data loaded>"
      ]
     },
     "execution_count": 6,
     "metadata": {},
     "output_type": "execute_result"
    }
   ],
   "source": [
    "# Hypnogram dictionary: \n",
    "# (-2) = Unassigned\n",
    "# (-1) = Artifact\n",
    "# (0) = Awake\n",
    "# (1) = N1\n",
    "# (2) = N2\n",
    "# (3) = N3\n",
    "# (4) = REM \n",
    "\n",
    "# Re-value sleep stages for incorporation into Epochs object\n",
    "hypnogram[(hypnogram != 2) & (hypnogram != 3)] = 0\n",
    "hypnogram[(hypnogram == 2) | (hypnogram == 3)] = 1\n",
    "\n",
    "# Create raw object from the hypnogram\n",
    "hypnogram = hypnogram[np.newaxis, :]\n",
    "\n",
    "hypno_info = mne.create_info(ch_names = ['hypno'], \n",
    "                             sfreq = raw.info['sfreq'], \n",
    "                             ch_types = ['misc'])\n",
    "\n",
    "hypno = mne.io.RawArray(data = hypnogram,\n",
    "                        info = hypno_info,\n",
    "                        first_samp = raw.first_samp)\n",
    "\n",
    "raw.add_channels([hypno], force_update_info = True)"
   ]
  },
  {
   "attachments": {},
   "cell_type": "markdown",
   "metadata": {},
   "source": [
    "Create dummy stim data and an empty stim channel, then fill the channel with the data"
   ]
  },
  {
   "cell_type": "code",
   "execution_count": 7,
   "metadata": {},
   "outputs": [
    {
     "name": "stdout",
     "output_type": "stream",
     "text": [
      "Creating RawArray with float64 data, n_channels=1, n_times=9584640\n",
      "    Range : 0 ... 9584639 =      0.000 ... 37439.996 secs\n",
      "Ready.\n"
     ]
    }
   ],
   "source": [
    "# Record the first sample (which is not 0 since the Raw\n",
    "# file was cropped from the original); you will need this\n",
    "# to appropriately select the epoch sample number\n",
    "start = raw.first_samp\n",
    "step = sampling_freq * epoch_length\n",
    "stop = raw.last_samp - step\n",
    "\n",
    "epoch_stim = np.arange(start, stop, step)\n",
    "\n",
    "# MNE Epochs expects a three column array where the second column\n",
    "# is a dummy spacer with 0's and the third is an integer indicating\n",
    "# the ID for the event. So we need to append these to our stim array.\n",
    "dummy_row = np.zeros(len(epoch_stim))\n",
    "event_row = np.ones(len(epoch_stim))\n",
    "\n",
    "epoch_stim = np.vstack((epoch_stim, dummy_row, event_row)).transpose()\n",
    "\n",
    "# Create a dummy numpy event array and MNE info object\n",
    "# and use them to create an empty dummy Raw channel\n",
    "events_info = mne.create_info(ch_names = ['epoch_stim'], \n",
    "                              sfreq = raw.info['sfreq'], \n",
    "                              ch_types = ['stim'])\n",
    "\n",
    "empty_events = np.zeros((1, len(raw.times)))\n",
    "\n",
    "events_channel = mne.io.RawArray(empty_events, events_info)\n",
    "\n",
    "# Create an event dictionary\n",
    "event_dictionary = {'epoch_start' : 1}"
   ]
  },
  {
   "attachments": {},
   "cell_type": "markdown",
   "metadata": {},
   "source": [
    "Epoch data using dummy stim data in the new channel"
   ]
  },
  {
   "cell_type": "code",
   "execution_count": 8,
   "metadata": {},
   "outputs": [
    {
     "name": "stdout",
     "output_type": "stream",
     "text": [
      "12479 events found\n",
      "Event IDs: [1]\n",
      "Not setting metadata\n",
      "12479 matching events found\n",
      "No baseline correction applied\n",
      "0 projection items activated\n",
      "Using data from preloaded Raw for 12479 events and 769 original time points ...\n",
      "0 bad epochs dropped\n"
     ]
    }
   ],
   "source": [
    "# Update the empty stim channel with the formatted epoch start times\n",
    "raw.add_channels([events_channel], force_update_info = True)\n",
    "raw.add_events(epoch_stim, 'epoch_stim')\n",
    "\n",
    "# Find events and create epochs\n",
    "events = mne.find_events(raw, \n",
    "                         stim_channel = 'epoch_stim', \n",
    "                         shortest_event = sampling_freq * epoch_length,\n",
    "                         initial_event = True)\n",
    "\n",
    "epochs = mne.Epochs(raw, \n",
    "                    preload = True, \n",
    "                    events = events, \n",
    "                    event_id = event_dictionary, \n",
    "                    baseline = None,\n",
    "                    verbose = True,\n",
    "                    tmin = 0, \n",
    "                    tmax = epoch_length)\n",
    "\n",
    "# Drop the event channel before exporting data\n",
    "epochs = epochs.drop_channels(['epoch_stim'])"
   ]
  },
  {
   "attachments": {},
   "cell_type": "markdown",
   "metadata": {},
   "source": [
    "Select epochs with more than 50% N2/3 sleep and save their sample number start times"
   ]
  },
  {
   "cell_type": "code",
   "execution_count": 9,
   "metadata": {},
   "outputs": [],
   "source": [
    "# Get epoched hypnogram and get SWS% per epoch\n",
    "hypochs = epochs.get_data(picks = ['hypno']).squeeze()\n",
    "hypochs = hypochs.mean(axis = 1).transpose()\n",
    "hypochs = pd.DataFrame(hypochs, columns = ['hypno_score'])\n",
    "\n",
    "# Keep epochs with more than 50% of SWS\n",
    "nopochs = pd.Series(hypochs[hypochs['hypno_score'] <= 0.50].index)\n",
    "hypochs = pd.Series(hypochs[hypochs['hypno_score'] > 0.50].index)\n",
    "\n",
    "# Remove hypno channel and get data\n",
    "epochs = epochs.drop_channels(['hypno'])\n",
    "data = epochs.get_data()\n",
    "\n",
    "# Delete non-SWS epochs\n",
    "data = np.delete(data, nopochs, axis = 0)"
   ]
  },
  {
   "attachments": {},
   "cell_type": "markdown",
   "metadata": {},
   "source": [
    "### Feature Extraction"
   ]
  },
  {
   "cell_type": "code",
   "execution_count": 10,
   "metadata": {},
   "outputs": [],
   "source": [
    "# Extract scalar features:\n",
    "# Input is (n_epochs, n_channels, n_times)\n",
    "# Output is (n_epochs, n_channels * n_features)\n",
    "mf_scalar = extract_features(data, \n",
    "                             sfreq = sampling_freq, \n",
    "                             selected_funcs = ['mean', 'variance', 'std', 'ptp_amp', \n",
    "                                               'skewness', 'kurtosis', 'rms', 'quantile', \n",
    "                                               'zero_crossings', 'hurst_exp'], \n",
    "                             ch_names = epochs.ch_names, \n",
    "                             return_as_df = True, \n",
    "                             n_jobs = -1)"
   ]
  },
  {
   "cell_type": "code",
   "execution_count": 11,
   "metadata": {},
   "outputs": [],
   "source": [
    "# Extract array features:\n",
    "# Output array of (n_epochs, n_channels * n_features)\n",
    "# but note that the second dimension will be a multi-index\n",
    "freq_bands = np.array([0.5, 4, 8, 13, 30, 50, 70, 100, sampling_freq/2])\n",
    "\n",
    "mf_params = {'pow_freq_bands__freq_bands' : freq_bands, \n",
    "             'spect_slope__fmin' : 0.3,\n",
    "             'spect_slope__fmax' : sampling_freq/2}\n",
    "\n",
    "mf_array = extract_features(data, \n",
    "                            sfreq = sampling_freq, \n",
    "                            selected_funcs = ['pow_freq_bands', 'spect_slope'], \n",
    "                            funcs_params = mf_params, \n",
    "                            ch_names = epochs.ch_names, \n",
    "                            return_as_df = True, \n",
    "                            n_jobs = -1)"
   ]
  },
  {
   "attachments": {},
   "cell_type": "markdown",
   "metadata": {},
   "source": [
    "### Feature Munging"
   ]
  },
  {
   "cell_type": "code",
   "execution_count": 12,
   "metadata": {},
   "outputs": [],
   "source": [
    "# Scalar features - Reshape multi-index to long\n",
    "mf_scalar = mf_scalar.unstack().reset_index()\n",
    "mf_scalar.columns = ['feature', 'channel', 'epoch', 'value']"
   ]
  },
  {
   "cell_type": "code",
   "execution_count": 13,
   "metadata": {},
   "outputs": [],
   "source": [
    "# Array features - Reshape multi-index to long\n",
    "mf_array = mf_array.unstack().reset_index()\n",
    "mf_array.columns = ['long_feature', 'elec_feature', 'epoch', 'value']\n",
    "\n",
    "# Extract channel and feature names from the aggregate output column\n",
    "# (Note that channels with underscores in their name will break this)\n",
    "mf_array[['channel', 'feature']] = mf_array['elec_feature'].str.split('_', expand = True)\n",
    "\n",
    "# Convert to xarray\n",
    "mf_array = mf_array[['channel', 'epoch', 'feature', 'value']]"
   ]
  },
  {
   "cell_type": "code",
   "execution_count": 14,
   "metadata": {},
   "outputs": [],
   "source": [
    "# Append the scalar and array feature datasets:\n",
    "mf_feats = pd.concat([mf_scalar, mf_array])\n",
    "\n",
    "# Normalize features for comparability (robust z-score)\n",
    "#mf_feats['zscore'] = mf_feats.groupby(['feature'])['value'].transform(zscore)\n",
    "mf_feats['rzscore'] = mf_feats.groupby(['feature'])['value'].transform(robust_zscore)\n",
    "mf_feats.drop(columns = ['value'], inplace = True)\n",
    "\n",
    "# Convert to xarray\n",
    "mf_feats = mf_feats.set_index(['channel', 'epoch', 'feature'])\n",
    "mf_feats = mf_feats.to_xarray()\n",
    "\n",
    "# Save meta-data for later\n",
    "channels = mf_feats.channel.to_pandas()\n",
    "epochs = mf_feats.epoch.to_pandas()\n",
    "\n",
    "# Convert to numpy\n",
    "mf_feats = mf_feats.to_array().to_numpy().squeeze()"
   ]
  },
  {
   "attachments": {},
   "cell_type": "markdown",
   "metadata": {},
   "source": [
    "### Local Outlier Factor"
   ]
  },
  {
   "attachments": {},
   "cell_type": "markdown",
   "metadata": {},
   "source": [
    "Channel-wise LOF"
   ]
  },
  {
   "cell_type": "code",
   "execution_count": 15,
   "metadata": {},
   "outputs": [],
   "source": [
    "for channel in range(mf_feats.shape[0]):\n",
    "\n",
    "    chan_lof = LocalOutlierFactor()\n",
    "    _ = chan_lof.fit_predict(mf_feats[channel, :, :])\n",
    "    chan_lof = chan_lof.negative_outlier_factor_\n",
    "\n",
    "    if channel == 0:\n",
    "        lof = chan_lof[np.newaxis, :]\n",
    "\n",
    "    else:\n",
    "        lof = np.append(lof, chan_lof[np.newaxis, :], axis = 0)"
   ]
  },
  {
   "cell_type": "code",
   "execution_count": 16,
   "metadata": {},
   "outputs": [],
   "source": [
    "# Convert from wide to long format\n",
    "lof = pd.DataFrame(lof, index = channels, columns = epochs)\n",
    "lof = lof.reset_index()\n",
    "\n",
    "lof = lof.melt(id_vars = ['index'], var_name = 'epoch', value_name = 'lof')\n",
    "lof.columns = ['channel', 'epoch', 'lof']"
   ]
  },
  {
   "attachments": {},
   "cell_type": "markdown",
   "metadata": {},
   "source": [
    "### Rejection Thresholding"
   ]
  },
  {
   "attachments": {},
   "cell_type": "markdown",
   "metadata": {},
   "source": [
    "Epoch rejection is all-or-none. An epoch must be deleted from all channels if it is rejected at all. Thus, if an epoch is selected as abnormal in more than N channels, the epoch times will be marked and saved to later remove any sleep events detected during those times."
   ]
  },
  {
   "cell_type": "code",
   "execution_count": 17,
   "metadata": {},
   "outputs": [],
   "source": [
    "# Create a table of channel counts with LOF < threshold for each epoch\n",
    "epoch_ct = lof[['epoch', 'lof']].loc[lof['lof'] < lof_threshold].groupby(['epoch']).count().reset_index()\n",
    "\n",
    "# Get epochs over the channel count threshold, these will be rejected\n",
    "below_lof = epoch_ct.loc[epoch_ct['lof'] > chan_threshold, 'epoch']"
   ]
  },
  {
   "attachments": {},
   "cell_type": "markdown",
   "metadata": {},
   "source": [
    "### Save rejected epochs for exclusion"
   ]
  },
  {
   "cell_type": "code",
   "execution_count": 18,
   "metadata": {},
   "outputs": [],
   "source": [
    "# Get epoch sample numbers\n",
    "bad_epochs = pd.DataFrame(epoch_stim[:,0], columns = ['start'])\n",
    "bad_epochs['stop'] = bad_epochs['start'] + (sampling_freq * epoch_length)\n",
    "\n",
    "# Pad bad epochs by 1 second on either side, then\n",
    "# convert to int64 for use in indexing\n",
    "bad_epochs['start'] = bad_epochs['start'] - (sampling_freq * 1)\n",
    "bad_epochs['stop'] = bad_epochs['stop'] - (sampling_freq * 1)\n",
    "\n",
    "bad_epochs['start'] = bad_epochs['start'].astype('int64')\n",
    "bad_epochs['stop'] = bad_epochs['stop'].astype('int64')\n",
    "\n",
    "# Reset index to get the original hypnogram epoch index\n",
    "bad_epochs = bad_epochs.reset_index()\n",
    "bad_epochs.columns = ['hypno_epoch', 'start', 'stop']\n",
    "\n",
    "# Select only SWS epochs\n",
    "bad_epochs = bad_epochs[bad_epochs['hypno_epoch'].isin(hypochs)]\n",
    "\n",
    "# Reset index twice (after keeping only SWS epochs)\n",
    "# to get the equivalent LOF epoch index, which is\n",
    "# different from the hypno epoch since its a reset subset\n",
    "bad_epochs = bad_epochs.reset_index().reset_index()\n",
    "bad_epochs.columns = ['lof_epoch', 'dummy_epoch', 'hypno_epoch', 'start', 'stop']\n",
    "bad_epochs.drop(columns = ['dummy_epoch'], inplace = True)\n",
    "\n",
    "# Keep epochs that were selected by LOF as bad\n",
    "bad_epochs = bad_epochs[bad_epochs['lof_epoch'].isin(below_lof)]\n",
    "\n",
    "# # Create a zero-filled 1d array with length of\n",
    "# # total number of samples, and set value to 1\n",
    "# # at time points corresponding to the rejected\n",
    "# # epochs (with their padding added)\n",
    "# bad_segments = np.zeros(len(raw))\n",
    "\n",
    "# for index, row in bad_epochs.iterrows():\n",
    "#     bad_segments[row['start']:row['stop']] = 1\n",
    "\n",
    "# Convert sample numbers to seconds\n",
    "bad_epochs['start_time'] = (bad_epochs['start'] / sampling_freq) - (raw.first_samp / sampling_freq)\n",
    "bad_epochs['stop_time'] = (bad_epochs['stop'] / sampling_freq) - (raw.first_samp / sampling_freq)\n",
    "\n",
    "# Save to CSV\n",
    "bad_epochs.to_csv(bad_epoch_path, index = False)"
   ]
  },
  {
   "cell_type": "code",
   "execution_count": 19,
   "metadata": {},
   "outputs": [
    {
     "data": {
      "text/html": [
       "<div>\n",
       "<style scoped>\n",
       "    .dataframe tbody tr th:only-of-type {\n",
       "        vertical-align: middle;\n",
       "    }\n",
       "\n",
       "    .dataframe tbody tr th {\n",
       "        vertical-align: top;\n",
       "    }\n",
       "\n",
       "    .dataframe thead th {\n",
       "        text-align: right;\n",
       "    }\n",
       "</style>\n",
       "<table border=\"1\" class=\"dataframe\">\n",
       "  <thead>\n",
       "    <tr style=\"text-align: right;\">\n",
       "      <th></th>\n",
       "      <th>lof_epoch</th>\n",
       "      <th>hypno_epoch</th>\n",
       "      <th>start</th>\n",
       "      <th>stop</th>\n",
       "      <th>start_time</th>\n",
       "      <th>stop_time</th>\n",
       "    </tr>\n",
       "  </thead>\n",
       "  <tbody>\n",
       "    <tr>\n",
       "      <th>133</th>\n",
       "      <td>133</td>\n",
       "      <td>657</td>\n",
       "      <td>504320</td>\n",
       "      <td>505088</td>\n",
       "      <td>1970.0</td>\n",
       "      <td>1973.0</td>\n",
       "    </tr>\n",
       "    <tr>\n",
       "      <th>545</th>\n",
       "      <td>545</td>\n",
       "      <td>2430</td>\n",
       "      <td>1865984</td>\n",
       "      <td>1866752</td>\n",
       "      <td>7289.0</td>\n",
       "      <td>7292.0</td>\n",
       "    </tr>\n",
       "    <tr>\n",
       "      <th>570</th>\n",
       "      <td>570</td>\n",
       "      <td>2459</td>\n",
       "      <td>1888256</td>\n",
       "      <td>1889024</td>\n",
       "      <td>7376.0</td>\n",
       "      <td>7379.0</td>\n",
       "    </tr>\n",
       "    <tr>\n",
       "      <th>1538</th>\n",
       "      <td>1538</td>\n",
       "      <td>3529</td>\n",
       "      <td>2710016</td>\n",
       "      <td>2710784</td>\n",
       "      <td>10586.0</td>\n",
       "      <td>10589.0</td>\n",
       "    </tr>\n",
       "    <tr>\n",
       "      <th>1712</th>\n",
       "      <td>1712</td>\n",
       "      <td>4185</td>\n",
       "      <td>3213824</td>\n",
       "      <td>3214592</td>\n",
       "      <td>12554.0</td>\n",
       "      <td>12557.0</td>\n",
       "    </tr>\n",
       "    <tr>\n",
       "      <th>2213</th>\n",
       "      <td>2213</td>\n",
       "      <td>4687</td>\n",
       "      <td>3599360</td>\n",
       "      <td>3600128</td>\n",
       "      <td>14060.0</td>\n",
       "      <td>14063.0</td>\n",
       "    </tr>\n",
       "    <tr>\n",
       "      <th>2532</th>\n",
       "      <td>2532</td>\n",
       "      <td>5007</td>\n",
       "      <td>3845120</td>\n",
       "      <td>3845888</td>\n",
       "      <td>15020.0</td>\n",
       "      <td>15023.0</td>\n",
       "    </tr>\n",
       "    <tr>\n",
       "      <th>2957</th>\n",
       "      <td>2957</td>\n",
       "      <td>6114</td>\n",
       "      <td>4695296</td>\n",
       "      <td>4696064</td>\n",
       "      <td>18341.0</td>\n",
       "      <td>18344.0</td>\n",
       "    </tr>\n",
       "    <tr>\n",
       "      <th>3977</th>\n",
       "      <td>3977</td>\n",
       "      <td>7138</td>\n",
       "      <td>5481728</td>\n",
       "      <td>5482496</td>\n",
       "      <td>21413.0</td>\n",
       "      <td>21416.0</td>\n",
       "    </tr>\n",
       "    <tr>\n",
       "      <th>4050</th>\n",
       "      <td>4050</td>\n",
       "      <td>7214</td>\n",
       "      <td>5540096</td>\n",
       "      <td>5540864</td>\n",
       "      <td>21641.0</td>\n",
       "      <td>21644.0</td>\n",
       "    </tr>\n",
       "    <tr>\n",
       "      <th>4075</th>\n",
       "      <td>4075</td>\n",
       "      <td>7239</td>\n",
       "      <td>5559296</td>\n",
       "      <td>5560064</td>\n",
       "      <td>21716.0</td>\n",
       "      <td>21719.0</td>\n",
       "    </tr>\n",
       "    <tr>\n",
       "      <th>4079</th>\n",
       "      <td>4079</td>\n",
       "      <td>7243</td>\n",
       "      <td>5562368</td>\n",
       "      <td>5563136</td>\n",
       "      <td>21728.0</td>\n",
       "      <td>21731.0</td>\n",
       "    </tr>\n",
       "    <tr>\n",
       "      <th>4285</th>\n",
       "      <td>4285</td>\n",
       "      <td>7449</td>\n",
       "      <td>5720576</td>\n",
       "      <td>5721344</td>\n",
       "      <td>22346.0</td>\n",
       "      <td>22349.0</td>\n",
       "    </tr>\n",
       "    <tr>\n",
       "      <th>4689</th>\n",
       "      <td>4689</td>\n",
       "      <td>8676</td>\n",
       "      <td>6662912</td>\n",
       "      <td>6663680</td>\n",
       "      <td>26027.0</td>\n",
       "      <td>26030.0</td>\n",
       "    </tr>\n",
       "    <tr>\n",
       "      <th>4915</th>\n",
       "      <td>4915</td>\n",
       "      <td>8904</td>\n",
       "      <td>6838016</td>\n",
       "      <td>6838784</td>\n",
       "      <td>26711.0</td>\n",
       "      <td>26714.0</td>\n",
       "    </tr>\n",
       "    <tr>\n",
       "      <th>4916</th>\n",
       "      <td>4916</td>\n",
       "      <td>8905</td>\n",
       "      <td>6838784</td>\n",
       "      <td>6839552</td>\n",
       "      <td>26714.0</td>\n",
       "      <td>26717.0</td>\n",
       "    </tr>\n",
       "    <tr>\n",
       "      <th>5373</th>\n",
       "      <td>5373</td>\n",
       "      <td>9532</td>\n",
       "      <td>7320320</td>\n",
       "      <td>7321088</td>\n",
       "      <td>28595.0</td>\n",
       "      <td>28598.0</td>\n",
       "    </tr>\n",
       "    <tr>\n",
       "      <th>5374</th>\n",
       "      <td>5374</td>\n",
       "      <td>9533</td>\n",
       "      <td>7321088</td>\n",
       "      <td>7321856</td>\n",
       "      <td>28598.0</td>\n",
       "      <td>28601.0</td>\n",
       "    </tr>\n",
       "    <tr>\n",
       "      <th>5375</th>\n",
       "      <td>5375</td>\n",
       "      <td>9534</td>\n",
       "      <td>7321856</td>\n",
       "      <td>7322624</td>\n",
       "      <td>28601.0</td>\n",
       "      <td>28604.0</td>\n",
       "    </tr>\n",
       "    <tr>\n",
       "      <th>5376</th>\n",
       "      <td>5376</td>\n",
       "      <td>9535</td>\n",
       "      <td>7322624</td>\n",
       "      <td>7323392</td>\n",
       "      <td>28604.0</td>\n",
       "      <td>28607.0</td>\n",
       "    </tr>\n",
       "    <tr>\n",
       "      <th>5377</th>\n",
       "      <td>5377</td>\n",
       "      <td>9536</td>\n",
       "      <td>7323392</td>\n",
       "      <td>7324160</td>\n",
       "      <td>28607.0</td>\n",
       "      <td>28610.0</td>\n",
       "    </tr>\n",
       "    <tr>\n",
       "      <th>5378</th>\n",
       "      <td>5378</td>\n",
       "      <td>9537</td>\n",
       "      <td>7324160</td>\n",
       "      <td>7324928</td>\n",
       "      <td>28610.0</td>\n",
       "      <td>28613.0</td>\n",
       "    </tr>\n",
       "    <tr>\n",
       "      <th>5877</th>\n",
       "      <td>5877</td>\n",
       "      <td>10038</td>\n",
       "      <td>7708928</td>\n",
       "      <td>7709696</td>\n",
       "      <td>30113.0</td>\n",
       "      <td>30116.0</td>\n",
       "    </tr>\n",
       "    <tr>\n",
       "      <th>5915</th>\n",
       "      <td>5915</td>\n",
       "      <td>10166</td>\n",
       "      <td>7807232</td>\n",
       "      <td>7808000</td>\n",
       "      <td>30497.0</td>\n",
       "      <td>30500.0</td>\n",
       "    </tr>\n",
       "  </tbody>\n",
       "</table>\n",
       "</div>"
      ],
      "text/plain": [
       "      lof_epoch  hypno_epoch    start     stop  start_time  stop_time\n",
       "133         133          657   504320   505088      1970.0     1973.0\n",
       "545         545         2430  1865984  1866752      7289.0     7292.0\n",
       "570         570         2459  1888256  1889024      7376.0     7379.0\n",
       "1538       1538         3529  2710016  2710784     10586.0    10589.0\n",
       "1712       1712         4185  3213824  3214592     12554.0    12557.0\n",
       "2213       2213         4687  3599360  3600128     14060.0    14063.0\n",
       "2532       2532         5007  3845120  3845888     15020.0    15023.0\n",
       "2957       2957         6114  4695296  4696064     18341.0    18344.0\n",
       "3977       3977         7138  5481728  5482496     21413.0    21416.0\n",
       "4050       4050         7214  5540096  5540864     21641.0    21644.0\n",
       "4075       4075         7239  5559296  5560064     21716.0    21719.0\n",
       "4079       4079         7243  5562368  5563136     21728.0    21731.0\n",
       "4285       4285         7449  5720576  5721344     22346.0    22349.0\n",
       "4689       4689         8676  6662912  6663680     26027.0    26030.0\n",
       "4915       4915         8904  6838016  6838784     26711.0    26714.0\n",
       "4916       4916         8905  6838784  6839552     26714.0    26717.0\n",
       "5373       5373         9532  7320320  7321088     28595.0    28598.0\n",
       "5374       5374         9533  7321088  7321856     28598.0    28601.0\n",
       "5375       5375         9534  7321856  7322624     28601.0    28604.0\n",
       "5376       5376         9535  7322624  7323392     28604.0    28607.0\n",
       "5377       5377         9536  7323392  7324160     28607.0    28610.0\n",
       "5378       5378         9537  7324160  7324928     28610.0    28613.0\n",
       "5877       5877        10038  7708928  7709696     30113.0    30116.0\n",
       "5915       5915        10166  7807232  7808000     30497.0    30500.0"
      ]
     },
     "execution_count": 19,
     "metadata": {},
     "output_type": "execute_result"
    }
   ],
   "source": [
    "bad_epochs"
   ]
  }
 ],
 "metadata": {
  "kernelspec": {
   "display_name": "sandbox",
   "language": "python",
   "name": "python3"
  },
  "language_info": {
   "codemirror_mode": {
    "name": "ipython",
    "version": 3
   },
   "file_extension": ".py",
   "mimetype": "text/x-python",
   "name": "python",
   "nbconvert_exporter": "python",
   "pygments_lexer": "ipython3",
   "version": "3.11.4"
  },
  "orig_nbformat": 4
 },
 "nbformat": 4,
 "nbformat_minor": 2
}
