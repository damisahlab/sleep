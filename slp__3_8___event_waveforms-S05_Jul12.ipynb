{
 "cells": [
  {
   "attachments": {},
   "cell_type": "markdown",
   "metadata": {},
   "source": [
    "### Configuration"
   ]
  },
  {
   "cell_type": "code",
   "execution_count": 1,
   "metadata": {},
   "outputs": [],
   "source": [
    "import os\n",
    "import numpy as np\n",
    "import pandas as pd\n",
    "\n",
    "import mne\n",
    "from tqdm import tqdm\n",
    "\n",
    "import utils__config"
   ]
  },
  {
   "cell_type": "code",
   "execution_count": 2,
   "metadata": {},
   "outputs": [
    {
     "data": {
      "text/plain": [
       "'Z:\\\\Layton\\\\Sleep_083023'"
      ]
     },
     "execution_count": 2,
     "metadata": {},
     "output_type": "execute_result"
    }
   ],
   "source": [
    "os.chdir(utils__config.working_directory)\n",
    "os.getcwd()"
   ]
  },
  {
   "attachments": {},
   "cell_type": "markdown",
   "metadata": {},
   "source": [
    "### Parameters"
   ]
  },
  {
   "cell_type": "code",
   "execution_count": 3,
   "metadata": {},
   "outputs": [],
   "source": [
    "fif_path = 'Cache/Subject05/Jul12/S05_Jul12_256hz.fif'\n",
    "dict_path = 'Data/Subject05/Jul12/S05_dictionary.xlsx'\n",
    "\n",
    "sw_path = 'Cache/Subject05/Jul12/S05_SW.csv'\n",
    "kc_path = 'Cache/Subject05/Jul12/S05_KC.csv'\n",
    "save_path = 'Cache/Subject05/Jul12/S05_event_epochs.csv'"
   ]
  },
  {
   "cell_type": "code",
   "execution_count": 4,
   "metadata": {},
   "outputs": [],
   "source": [
    "sampling_freq = 256"
   ]
  },
  {
   "attachments": {},
   "cell_type": "markdown",
   "metadata": {},
   "source": [
    "### Load Raw data"
   ]
  },
  {
   "cell_type": "code",
   "execution_count": 5,
   "metadata": {},
   "outputs": [
    {
     "name": "stdout",
     "output_type": "stream",
     "text": [
      "Opening raw data file Cache/Subject05/Jul12/S05_Jul12_256hz.fif...\n"
     ]
    },
    {
     "name": "stderr",
     "output_type": "stream",
     "text": [
      "C:\\Users\\lal85\\AppData\\Local\\Temp\\2\\ipykernel_46752\\2216903412.py:2: RuntimeWarning: This filename (Cache/Subject05/Jul12/S05_Jul12_256hz.fif) does not conform to MNE naming conventions. All raw files should end with raw.fif, raw_sss.fif, raw_tsss.fif, _meg.fif, _eeg.fif, _ieeg.fif, raw.fif.gz, raw_sss.fif.gz, raw_tsss.fif.gz, _meg.fif.gz, _eeg.fif.gz or _ieeg.fif.gz\n",
      "  raw = mne.io.read_raw_fif(fif_path, preload = True, verbose = None)\n"
     ]
    },
    {
     "name": "stdout",
     "output_type": "stream",
     "text": [
      "    Range : 0 ... 7249663 =      0.000 ... 28318.996 secs\n",
      "Ready.\n",
      "Opening raw data file Z:\\Layton\\Sleep_083023\\Cache\\Subject05\\Jul12\\S05_Jul12_256hz-1.fif...\n",
      "    Range : 7249664 ... 9720319 =  28319.000 ... 37969.996 secs\n",
      "Ready.\n",
      "Reading 0 ... 9720319  =      0.000 ... 37969.996 secs...\n",
      "Creating RawArray with float64 data, n_channels=1, n_times=9720320\n",
      "    Range : 0 ... 9720319 =      0.000 ... 37969.996 secs\n",
      "Ready.\n"
     ]
    }
   ],
   "source": [
    "# Load LFP data\n",
    "raw = mne.io.read_raw_fif(fif_path, preload = True, verbose = None)\n",
    "\n",
    "# Record the first sample (which is not 0 since the Raw\n",
    "# file was cropped from the original); you will need this\n",
    "# to appropriately select the sleep event sample number\n",
    "first_raw_sample = raw.first_samp\n",
    "\n",
    "# Remove unnecessary channels\n",
    "#dictionary = pd.read_excel(dict_path)\n",
    "#dictionary = dictionary[(dictionary['type'] == 'macro') & (dictionary['status'] == 'accept')]['name'].tolist()\n",
    "#raw.pick_channels(ch_names = dictionary)\n",
    "\n",
    "# Create a dummy numpy event array and MNE info object\n",
    "# and use them to create an empty dummy Raw channel\n",
    "events_info = mne.create_info(ch_names = ['events'], \n",
    "                              sfreq = raw.info['sfreq'], \n",
    "                              ch_types = ['stim'])\n",
    "\n",
    "empty_events = np.zeros((1, len(raw.times)))\n",
    "\n",
    "events_channel = mne.io.RawArray(data = empty_events, \n",
    "                                 info = events_info,\n",
    "                                 first_samp = first_raw_sample)"
   ]
  },
  {
   "attachments": {},
   "cell_type": "markdown",
   "metadata": {},
   "source": [
    "### Slow Waves"
   ]
  },
  {
   "cell_type": "code",
   "execution_count": 6,
   "metadata": {},
   "outputs": [],
   "source": [
    "# Load detected slow waves\n",
    "sw_times = pd.read_csv(sw_path)\n",
    "sw_times = sw_times[['Channel', 'Start', 'End', 'Duration', 'NegPeak', 'MidCrossing', 'PosPeak']]\n",
    "sw_times.columns = ['channel', 'start', 'end', 'duration', 'neg_peak', 'mid_cross', 'pos_peak']\n",
    "\n",
    "# Find MNE sample times for when SW's were present\n",
    "sw_times['sample'] = (sw_times.neg_peak * sampling_freq) + first_raw_sample\n",
    "sw_times['sample'] = sw_times['sample'].round(0).astype('int64')\n",
    "\n",
    "# Create a numpy array formatted according to MNE requirements\n",
    "# (please note that the dummy_0 column is just a spacer and has \n",
    "#  no meaning except internally to MNE, which expects 0's; \n",
    "#  however, the event_id column should contain the integer that\n",
    "#  corresponds to the relevant event in your event dictionary)\n",
    "sw_times['dummy_0'] = 0\n",
    "sw_times['event_id'] = 1"
   ]
  },
  {
   "attachments": {},
   "cell_type": "markdown",
   "metadata": {},
   "source": [
    "### K-Complexes"
   ]
  },
  {
   "cell_type": "code",
   "execution_count": 7,
   "metadata": {},
   "outputs": [],
   "source": [
    "# Load detected slow waves\n",
    "kc_times = pd.read_csv(kc_path)\n",
    "kc_times = kc_times[['Channel', 'Start', 'End', 'Duration', 'NegPeak', 'MidCrossing', 'PosPeak']]\n",
    "kc_times.columns = ['channel', 'start', 'end', 'duration', 'neg_peak', 'mid_cross', 'pos_peak']\n",
    "\n",
    "# Find MNE sample times for when SW's were present\n",
    "kc_times['sample'] = (kc_times.neg_peak * sampling_freq) + first_raw_sample\n",
    "kc_times['sample'] = kc_times['sample'].round(0).astype('int64')\n",
    "\n",
    "# Create a numpy array formatted according to MNE requirements\n",
    "# (please note that the dummy_0 column is just a spacer and has \n",
    "#  no meaning except internally to MNE, which expects 0's; \n",
    "#  however, the event_id column should contain the integer that\n",
    "#  corresponds to the relevant event in your event dictionary)\n",
    "kc_times['dummy_0'] = 0\n",
    "kc_times['event_id'] = 2"
   ]
  },
  {
   "attachments": {},
   "cell_type": "markdown",
   "metadata": {},
   "source": [
    "### Mark events and export by channel"
   ]
  },
  {
   "cell_type": "code",
   "execution_count": 8,
   "metadata": {},
   "outputs": [
    {
     "name": "stderr",
     "output_type": "stream",
     "text": [
      "  0%|          | 0/27 [00:00<?, ?it/s]"
     ]
    },
    {
     "name": "stdout",
     "output_type": "stream",
     "text": [
      "NOTE: pick_channels() is a legacy function. New code should use inst.pick(...).\n",
      "5088 events found\n",
      "Event IDs: [1 2 3]\n",
      "Not setting metadata\n",
      "5084 matching events found\n",
      "No baseline correction applied\n",
      "0 projection items activated\n",
      "Using data from preloaded Raw for 5084 events and 1025 original time points ...\n",
      "0 bad epochs dropped\n"
     ]
    },
    {
     "name": "stderr",
     "output_type": "stream",
     "text": [
      "  4%|▎         | 1/27 [00:03<01:27,  3.35s/it]"
     ]
    },
    {
     "name": "stdout",
     "output_type": "stream",
     "text": [
      "NOTE: pick_channels() is a legacy function. New code should use inst.pick(...).\n",
      "1201 events found\n",
      "Event IDs: [1]\n",
      "Not setting metadata\n",
      "1201 matching events found\n",
      "No baseline correction applied\n",
      "0 projection items activated\n",
      "Using data from preloaded Raw for 1201 events and 1025 original time points ...\n",
      "0 bad epochs dropped\n"
     ]
    },
    {
     "name": "stderr",
     "output_type": "stream",
     "text": [
      "  7%|▋         | 2/27 [00:05<01:01,  2.45s/it]"
     ]
    },
    {
     "name": "stdout",
     "output_type": "stream",
     "text": [
      "NOTE: pick_channels() is a legacy function. New code should use inst.pick(...).\n",
      "1970 events found\n",
      "Event IDs: [1]\n",
      "Not setting metadata\n",
      "1970 matching events found\n",
      "No baseline correction applied\n",
      "0 projection items activated\n",
      "Using data from preloaded Raw for 1970 events and 1025 original time points ...\n",
      "0 bad epochs dropped\n"
     ]
    },
    {
     "name": "stderr",
     "output_type": "stream",
     "text": [
      " 11%|█         | 3/27 [00:07<00:54,  2.27s/it]"
     ]
    },
    {
     "name": "stdout",
     "output_type": "stream",
     "text": [
      "NOTE: pick_channels() is a legacy function. New code should use inst.pick(...).\n",
      "5297 events found\n",
      "Event IDs: [1 2 3]\n",
      "Not setting metadata\n",
      "5293 matching events found\n",
      "No baseline correction applied\n",
      "0 projection items activated\n",
      "Using data from preloaded Raw for 5293 events and 1025 original time points ...\n",
      "0 bad epochs dropped\n"
     ]
    },
    {
     "name": "stderr",
     "output_type": "stream",
     "text": [
      " 15%|█▍        | 4/27 [00:10<01:03,  2.76s/it]"
     ]
    },
    {
     "name": "stdout",
     "output_type": "stream",
     "text": [
      "NOTE: pick_channels() is a legacy function. New code should use inst.pick(...).\n",
      "939 events found\n",
      "Event IDs: [1]\n",
      "Not setting metadata\n",
      "939 matching events found\n",
      "No baseline correction applied\n",
      "0 projection items activated\n",
      "Using data from preloaded Raw for 939 events and 1025 original time points ...\n",
      "0 bad epochs dropped\n"
     ]
    },
    {
     "name": "stderr",
     "output_type": "stream",
     "text": [
      " 19%|█▊        | 5/27 [00:12<00:51,  2.36s/it]"
     ]
    },
    {
     "name": "stdout",
     "output_type": "stream",
     "text": [
      "NOTE: pick_channels() is a legacy function. New code should use inst.pick(...).\n",
      "1732 events found\n",
      "Event IDs: [1]\n",
      "Not setting metadata\n",
      "1732 matching events found\n",
      "No baseline correction applied\n",
      "0 projection items activated\n",
      "Using data from preloaded Raw for 1732 events and 1025 original time points ...\n",
      "0 bad epochs dropped\n"
     ]
    },
    {
     "name": "stderr",
     "output_type": "stream",
     "text": [
      " 22%|██▏       | 6/27 [00:14<00:47,  2.26s/it]"
     ]
    },
    {
     "name": "stdout",
     "output_type": "stream",
     "text": [
      "NOTE: pick_channels() is a legacy function. New code should use inst.pick(...).\n",
      "1936 events found\n",
      "Event IDs: [1]\n",
      "Not setting metadata\n",
      "1936 matching events found\n",
      "No baseline correction applied\n",
      "0 projection items activated\n",
      "Using data from preloaded Raw for 1936 events and 1025 original time points ...\n",
      "0 bad epochs dropped\n"
     ]
    },
    {
     "name": "stderr",
     "output_type": "stream",
     "text": [
      " 26%|██▌       | 7/27 [00:16<00:44,  2.20s/it]"
     ]
    },
    {
     "name": "stdout",
     "output_type": "stream",
     "text": [
      "NOTE: pick_channels() is a legacy function. New code should use inst.pick(...).\n",
      "1175 events found\n",
      "Event IDs: [1]\n",
      "Not setting metadata\n",
      "1175 matching events found\n",
      "No baseline correction applied\n",
      "0 projection items activated\n",
      "Using data from preloaded Raw for 1175 events and 1025 original time points ...\n",
      "0 bad epochs dropped\n"
     ]
    },
    {
     "name": "stderr",
     "output_type": "stream",
     "text": [
      " 30%|██▉       | 8/27 [00:18<00:39,  2.09s/it]"
     ]
    },
    {
     "name": "stdout",
     "output_type": "stream",
     "text": [
      "NOTE: pick_channels() is a legacy function. New code should use inst.pick(...).\n",
      "1773 events found\n",
      "Event IDs: [1]\n",
      "Not setting metadata\n",
      "1773 matching events found\n",
      "No baseline correction applied\n",
      "0 projection items activated\n",
      "Using data from preloaded Raw for 1773 events and 1025 original time points ...\n",
      "0 bad epochs dropped\n"
     ]
    },
    {
     "name": "stderr",
     "output_type": "stream",
     "text": [
      " 33%|███▎      | 9/27 [00:20<00:37,  2.06s/it]"
     ]
    },
    {
     "name": "stdout",
     "output_type": "stream",
     "text": [
      "NOTE: pick_channels() is a legacy function. New code should use inst.pick(...).\n",
      "1497 events found\n",
      "Event IDs: [1]\n",
      "Not setting metadata\n",
      "1497 matching events found\n",
      "No baseline correction applied\n",
      "0 projection items activated\n",
      "Using data from preloaded Raw for 1497 events and 1025 original time points ...\n",
      "0 bad epochs dropped\n"
     ]
    },
    {
     "name": "stderr",
     "output_type": "stream",
     "text": [
      " 37%|███▋      | 10/27 [00:22<00:34,  2.04s/it]"
     ]
    },
    {
     "name": "stdout",
     "output_type": "stream",
     "text": [
      "NOTE: pick_channels() is a legacy function. New code should use inst.pick(...).\n",
      "2162 events found\n",
      "Event IDs: [1]\n",
      "Not setting metadata\n",
      "2162 matching events found\n",
      "No baseline correction applied\n",
      "0 projection items activated\n",
      "Using data from preloaded Raw for 2162 events and 1025 original time points ...\n",
      "0 bad epochs dropped\n"
     ]
    },
    {
     "name": "stderr",
     "output_type": "stream",
     "text": [
      " 41%|████      | 11/27 [00:24<00:33,  2.08s/it]"
     ]
    },
    {
     "name": "stdout",
     "output_type": "stream",
     "text": [
      "NOTE: pick_channels() is a legacy function. New code should use inst.pick(...).\n",
      "4473 events found\n",
      "Event IDs: [1 2 3]\n",
      "Not setting metadata\n",
      "4472 matching events found\n",
      "No baseline correction applied\n",
      "0 projection items activated\n",
      "Using data from preloaded Raw for 4472 events and 1025 original time points ...\n",
      "0 bad epochs dropped\n"
     ]
    },
    {
     "name": "stderr",
     "output_type": "stream",
     "text": [
      " 44%|████▍     | 12/27 [00:27<00:36,  2.42s/it]"
     ]
    },
    {
     "name": "stdout",
     "output_type": "stream",
     "text": [
      "NOTE: pick_channels() is a legacy function. New code should use inst.pick(...).\n",
      "3093 events found\n",
      "Event IDs: [1]\n",
      "Not setting metadata\n",
      "3093 matching events found\n",
      "No baseline correction applied\n",
      "0 projection items activated\n",
      "Using data from preloaded Raw for 3093 events and 1025 original time points ...\n",
      "0 bad epochs dropped\n"
     ]
    },
    {
     "name": "stderr",
     "output_type": "stream",
     "text": [
      " 48%|████▊     | 13/27 [00:30<00:34,  2.46s/it]"
     ]
    },
    {
     "name": "stdout",
     "output_type": "stream",
     "text": [
      "NOTE: pick_channels() is a legacy function. New code should use inst.pick(...).\n",
      "1022 events found\n",
      "Event IDs: [1]\n",
      "Not setting metadata\n",
      "1022 matching events found\n",
      "No baseline correction applied\n",
      "0 projection items activated\n",
      "Using data from preloaded Raw for 1022 events and 1025 original time points ...\n",
      "0 bad epochs dropped\n"
     ]
    },
    {
     "name": "stderr",
     "output_type": "stream",
     "text": [
      " 52%|█████▏    | 14/27 [00:32<00:29,  2.27s/it]"
     ]
    },
    {
     "name": "stdout",
     "output_type": "stream",
     "text": [
      "NOTE: pick_channels() is a legacy function. New code should use inst.pick(...).\n",
      "2623 events found\n",
      "Event IDs: [1]\n",
      "Not setting metadata\n",
      "2623 matching events found\n",
      "No baseline correction applied\n",
      "0 projection items activated\n",
      "Using data from preloaded Raw for 2623 events and 1025 original time points ...\n",
      "0 bad epochs dropped\n"
     ]
    },
    {
     "name": "stderr",
     "output_type": "stream",
     "text": [
      " 56%|█████▌    | 15/27 [00:34<00:28,  2.33s/it]"
     ]
    },
    {
     "name": "stdout",
     "output_type": "stream",
     "text": [
      "NOTE: pick_channels() is a legacy function. New code should use inst.pick(...).\n",
      "948 events found\n",
      "Event IDs: [1]\n",
      "Not setting metadata\n",
      "948 matching events found\n",
      "No baseline correction applied\n",
      "0 projection items activated\n",
      "Using data from preloaded Raw for 948 events and 1025 original time points ...\n",
      "0 bad epochs dropped\n"
     ]
    },
    {
     "name": "stderr",
     "output_type": "stream",
     "text": [
      " 59%|█████▉    | 16/27 [00:36<00:23,  2.18s/it]"
     ]
    },
    {
     "name": "stdout",
     "output_type": "stream",
     "text": [
      "NOTE: pick_channels() is a legacy function. New code should use inst.pick(...).\n",
      "4316 events found\n",
      "Event IDs: [1 2 3]\n",
      "Not setting metadata\n",
      "4313 matching events found\n",
      "No baseline correction applied\n",
      "0 projection items activated\n",
      "Using data from preloaded Raw for 4313 events and 1025 original time points ...\n",
      "0 bad epochs dropped\n"
     ]
    },
    {
     "name": "stderr",
     "output_type": "stream",
     "text": [
      " 63%|██████▎   | 17/27 [00:39<00:25,  2.55s/it]"
     ]
    },
    {
     "name": "stdout",
     "output_type": "stream",
     "text": [
      "NOTE: pick_channels() is a legacy function. New code should use inst.pick(...).\n",
      "2282 events found\n",
      "Event IDs: [1]\n",
      "Not setting metadata\n",
      "2282 matching events found\n",
      "No baseline correction applied\n",
      "0 projection items activated\n",
      "Using data from preloaded Raw for 2282 events and 1025 original time points ...\n",
      "0 bad epochs dropped\n"
     ]
    },
    {
     "name": "stderr",
     "output_type": "stream",
     "text": [
      " 67%|██████▋   | 18/27 [00:42<00:23,  2.56s/it]"
     ]
    },
    {
     "name": "stdout",
     "output_type": "stream",
     "text": [
      "NOTE: pick_channels() is a legacy function. New code should use inst.pick(...).\n",
      "2203 events found\n",
      "Event IDs: [1]\n",
      "Not setting metadata\n",
      "2203 matching events found\n",
      "No baseline correction applied\n",
      "0 projection items activated\n",
      "Using data from preloaded Raw for 2203 events and 1025 original time points ...\n",
      "0 bad epochs dropped\n"
     ]
    },
    {
     "name": "stderr",
     "output_type": "stream",
     "text": [
      " 70%|███████   | 19/27 [00:44<00:20,  2.51s/it]"
     ]
    },
    {
     "name": "stdout",
     "output_type": "stream",
     "text": [
      "NOTE: pick_channels() is a legacy function. New code should use inst.pick(...).\n",
      "2820 events found\n",
      "Event IDs: [1]\n",
      "Not setting metadata\n",
      "2820 matching events found\n",
      "No baseline correction applied\n",
      "0 projection items activated\n",
      "Using data from preloaded Raw for 2820 events and 1025 original time points ...\n",
      "0 bad epochs dropped\n"
     ]
    },
    {
     "name": "stderr",
     "output_type": "stream",
     "text": [
      " 74%|███████▍  | 20/27 [00:47<00:17,  2.57s/it]"
     ]
    },
    {
     "name": "stdout",
     "output_type": "stream",
     "text": [
      "NOTE: pick_channels() is a legacy function. New code should use inst.pick(...).\n",
      "963 events found\n",
      "Event IDs: [1]\n",
      "Not setting metadata\n",
      "963 matching events found\n",
      "No baseline correction applied\n",
      "0 projection items activated\n",
      "Using data from preloaded Raw for 963 events and 1025 original time points ...\n",
      "0 bad epochs dropped\n"
     ]
    },
    {
     "name": "stderr",
     "output_type": "stream",
     "text": [
      " 78%|███████▊  | 21/27 [00:49<00:14,  2.40s/it]"
     ]
    },
    {
     "name": "stdout",
     "output_type": "stream",
     "text": [
      "NOTE: pick_channels() is a legacy function. New code should use inst.pick(...).\n",
      "1323 events found\n",
      "Event IDs: [1]\n",
      "Not setting metadata\n",
      "1323 matching events found\n",
      "No baseline correction applied\n",
      "0 projection items activated\n",
      "Using data from preloaded Raw for 1323 events and 1025 original time points ...\n",
      "0 bad epochs dropped\n"
     ]
    },
    {
     "name": "stderr",
     "output_type": "stream",
     "text": [
      " 81%|████████▏ | 22/27 [00:51<00:11,  2.32s/it]"
     ]
    },
    {
     "name": "stdout",
     "output_type": "stream",
     "text": [
      "NOTE: pick_channels() is a legacy function. New code should use inst.pick(...).\n",
      "1316 events found\n",
      "Event IDs: [1]\n",
      "Not setting metadata\n",
      "1316 matching events found\n",
      "No baseline correction applied\n",
      "0 projection items activated\n",
      "Using data from preloaded Raw for 1316 events and 1025 original time points ...\n",
      "0 bad epochs dropped\n"
     ]
    },
    {
     "name": "stderr",
     "output_type": "stream",
     "text": [
      " 85%|████████▌ | 23/27 [00:53<00:08,  2.22s/it]"
     ]
    },
    {
     "name": "stdout",
     "output_type": "stream",
     "text": [
      "NOTE: pick_channels() is a legacy function. New code should use inst.pick(...).\n",
      "2996 events found\n",
      "Event IDs: [1 2 3]\n",
      "Not setting metadata\n",
      "2993 matching events found\n",
      "No baseline correction applied\n",
      "0 projection items activated\n",
      "Using data from preloaded Raw for 2993 events and 1025 original time points ...\n",
      "0 bad epochs dropped\n"
     ]
    },
    {
     "name": "stderr",
     "output_type": "stream",
     "text": [
      " 89%|████████▉ | 24/27 [00:56<00:07,  2.36s/it]"
     ]
    },
    {
     "name": "stdout",
     "output_type": "stream",
     "text": [
      "NOTE: pick_channels() is a legacy function. New code should use inst.pick(...).\n",
      "4124 events found\n",
      "Event IDs: [1 2]\n",
      "Not setting metadata\n",
      "4124 matching events found\n",
      "No baseline correction applied\n",
      "0 projection items activated\n",
      "Using data from preloaded Raw for 4124 events and 1025 original time points ...\n",
      "0 bad epochs dropped\n"
     ]
    },
    {
     "name": "stderr",
     "output_type": "stream",
     "text": [
      " 93%|█████████▎| 25/27 [00:59<00:05,  2.63s/it]"
     ]
    },
    {
     "name": "stdout",
     "output_type": "stream",
     "text": [
      "NOTE: pick_channels() is a legacy function. New code should use inst.pick(...).\n",
      "927 events found\n",
      "Event IDs: [1]\n",
      "Not setting metadata\n",
      "927 matching events found\n",
      "No baseline correction applied\n",
      "0 projection items activated\n",
      "Using data from preloaded Raw for 927 events and 1025 original time points ...\n",
      "0 bad epochs dropped\n"
     ]
    },
    {
     "name": "stderr",
     "output_type": "stream",
     "text": [
      " 96%|█████████▋| 26/27 [01:01<00:02,  2.42s/it]"
     ]
    },
    {
     "name": "stdout",
     "output_type": "stream",
     "text": [
      "NOTE: pick_channels() is a legacy function. New code should use inst.pick(...).\n",
      "3953 events found\n",
      "Event IDs: [1 2]\n",
      "Not setting metadata\n",
      "3953 matching events found\n",
      "No baseline correction applied\n",
      "0 projection items activated\n",
      "Using data from preloaded Raw for 3953 events and 1025 original time points ...\n",
      "0 bad epochs dropped\n"
     ]
    },
    {
     "name": "stderr",
     "output_type": "stream",
     "text": [
      "100%|██████████| 27/27 [01:04<00:00,  2.40s/it]\n"
     ]
    }
   ],
   "source": [
    "event_frame = pd.DataFrame()\n",
    "\n",
    "# Loop through only those channels with detected SW or KC\n",
    "sw_kc_channels = pd.concat([sw_times['channel'], kc_times['channel']]).unique()\n",
    "\n",
    "for channel in tqdm(sw_kc_channels):\n",
    "\n",
    "    # Create a channel-specific Raw object\n",
    "    temp_raw = raw.copy().pick_channels(ch_names = [channel])\n",
    "\n",
    "    # Create channel-specific Event numpy arrays\n",
    "    chan_sw = np.array(sw_times[sw_times.channel == channel][['sample', 'dummy_0', 'event_id']])\n",
    "    chan_kc = np.array(kc_times[kc_times.channel == channel][['sample', 'dummy_0', 'event_id']])\n",
    "\n",
    "    # Add the empty dummy channel to the data\n",
    "    temp_raw.add_channels([events_channel], force_update_info = True)\n",
    "\n",
    "    # Now update the dummy events ('stim') channel with the \n",
    "    # event times and then convert them to MNE events\n",
    "    event_dictionary = {'slow_wave' : 1}\n",
    "    \n",
    "    temp_raw.add_events(chan_sw, 'events')\n",
    "\n",
    "    # If any K-Complexes were detected, overwrite above\n",
    "    if (len(chan_kc) > 0):\n",
    "\n",
    "        event_dictionary = {'slow_wave' : 1,\n",
    "                            'k_complex' : 2}\n",
    "        \n",
    "        temp_raw.add_events(chan_kc, 'events')\n",
    "\n",
    "    # Find events\n",
    "    events = mne.find_events(raw = temp_raw, \n",
    "                             shortest_event = 1, # include events of length 1 sample \n",
    "                             initial_event = True) # include events occuring at sample 0\n",
    "\n",
    "    # Create an MNE Epochs object using the modified MNE Raw object\n",
    "    epochs = mne.Epochs(temp_raw, \n",
    "                        preload = True, \n",
    "                        events = events, \n",
    "                        event_id = event_dictionary, \n",
    "                        baseline = None, \n",
    "                        verbose = True, \n",
    "                        tmin = -2, \n",
    "                        tmax = 2, \n",
    "                        decim = 1)\n",
    "\n",
    "    # Drop the event channel before exporting data\n",
    "    epochs = epochs.drop_channels(['events'])\n",
    "\n",
    "    # Format the Epochs object into a pandas dataframe\n",
    "    epochs = epochs.to_data_frame(scalings = dict(seeg = 1e6, eeg = 1e6))\n",
    "    epochs = epochs.set_index(['time', 'condition', 'epoch']).stack().reset_index()\n",
    "    epochs.columns = ['time', 'condition', 'epoch', 'channel', 'value']\n",
    "\n",
    "    # Average sleep events within channel (optional)\n",
    "    epochs.drop(columns = ['epoch'], inplace = True)\n",
    "    epochs = epochs.groupby(['time', 'condition', 'channel']).mean().reset_index()\n",
    "\n",
    "    # Get data and annotate event type (SW/KC)\n",
    "    event_frame = pd.concat([event_frame, epochs])"
   ]
  },
  {
   "cell_type": "code",
   "execution_count": 9,
   "metadata": {},
   "outputs": [],
   "source": [
    "event_frame.to_csv(save_path)"
   ]
  }
 ],
 "metadata": {
  "kernelspec": {
   "display_name": "sandbox",
   "language": "python",
   "name": "python3"
  },
  "language_info": {
   "codemirror_mode": {
    "name": "ipython",
    "version": 3
   },
   "file_extension": ".py",
   "mimetype": "text/x-python",
   "name": "python",
   "nbconvert_exporter": "python",
   "pygments_lexer": "ipython3",
   "version": "3.11.4"
  },
  "orig_nbformat": 4,
  "vscode": {
   "interpreter": {
    "hash": "bceaa3bdda3825794b37c15d2000316b6f4a45a3d4f5e14660beed4f1d5f7638"
   }
  }
 },
 "nbformat": 4,
 "nbformat_minor": 2
}
