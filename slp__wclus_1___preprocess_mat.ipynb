{
 "cells": [
  {
   "attachments": {},
   "cell_type": "markdown",
   "metadata": {},
   "source": [
    "### Configuration"
   ]
  },
  {
   "cell_type": "code",
   "execution_count": 1,
   "metadata": {},
   "outputs": [],
   "source": [
    "import os\n",
    "import re\n",
    "import numpy as np\n",
    "import pandas as pd\n",
    "import datetime\n",
    "\n",
    "import h5py\n",
    "import hdf5storage\n",
    "from tqdm import tqdm\n",
    "\n",
    "#from utils__helpers_micro import mat_to_npy\n",
    "#from utils__helpers_micro import npy_to_si\n",
    "import utils__config as config"
   ]
  },
  {
   "cell_type": "code",
   "execution_count": 2,
   "metadata": {},
   "outputs": [
    {
     "data": {
      "text/plain": [
       "'g:\\\\My Drive\\\\Residency\\\\Research\\\\Lab - Damisah\\\\Project - Sleep'"
      ]
     },
     "execution_count": 2,
     "metadata": {},
     "output_type": "execute_result"
    }
   ],
   "source": [
    "os.chdir(config.working_directory)\n",
    "os.getcwd()"
   ]
  },
  {
   "attachments": {},
   "cell_type": "markdown",
   "metadata": {},
   "source": [
    "### Parameters"
   ]
  },
  {
   "cell_type": "code",
   "execution_count": 3,
   "metadata": {},
   "outputs": [],
   "source": [
    "dir_base = 'M:/Sleep/Cache/Subject02/Apr26'\n",
    "dir_from = 'S02_Apr26_micro__1___ns5_to_mat'\n",
    "dir_to = 'S02_Apr26_micro__2___mat_to_mat'\n",
    "\n",
    "tmin = datetime.datetime(2022, 4, 27, 1, 59, 20, 0, tzinfo = datetime.timezone.utc)\n",
    "tmax = datetime.datetime(2022, 4, 27, 7, 37, 20, 0, tzinfo = datetime.timezone.utc)\n",
    "\n",
    "dictionary_path = 'Data/Subject02/S02_dictionary.xlsx'"
   ]
  },
  {
   "cell_type": "code",
   "execution_count": 4,
   "metadata": {},
   "outputs": [],
   "source": [
    "# Load channel dictionary\n",
    "ch_dictionary = pd.read_excel(dictionary_path)\n",
    "\n",
    "# Get list of files and sort by channel number\n",
    "file_list = os.listdir(os.path.join(dir_base, dir_from))\n",
    "file_list.sort()\n",
    "\n",
    "# Select only the subset of files you want\n",
    "#file_list = file_list[0:1] \n",
    "#print(len(file_list))"
   ]
  },
  {
   "cell_type": "markdown",
   "metadata": {},
   "source": [
    "### Define Function"
   ]
  },
  {
   "cell_type": "code",
   "execution_count": 5,
   "metadata": {},
   "outputs": [],
   "source": [
    "def mat_to_npy(file_path, start=None, stop=None):\n",
    "    # Import MAT file\n",
    "    data = hdf5storage.loadmat(file_path) # , variable_names = ['foo', 'bar']\n",
    "\n",
    "    # Extract sampling frequency\n",
    "    sampling_rate = data['meta_data']['sampling_rate'].astype(np.int64)[0][0][0]\n",
    "\n",
    "    # NSx raw timestamps are formatted YYYY-MM-?-DD-HH-MM-SS-MSMSMS\n",
    "    # (so you do not use the third element in the timestamp; \n",
    "    #  also, MNE only accepts timestamps in the UTC timezone)\n",
    "    raw_time = data['meta_data']['time_stamp'][0][0][0][0].astype(np.int64)\n",
    "    time_start = datetime.datetime(raw_time[0], raw_time[1], raw_time[3], \n",
    "                                   raw_time[4], raw_time[5], raw_time[6], \n",
    "                                   raw_time[7], tzinfo = datetime.timezone.utc)\n",
    "\n",
    "    # Convert time series data from uV to Volts\n",
    "    data = data['time_series'][0] * 1e-6\n",
    "\n",
    "    # Since this is only one channel, it loads as only one dimension. We need to add a \n",
    "    # dummy second dimension (channels) for se.NumpyRecording() to work.\n",
    "    data = data[:, np.newaxis]\n",
    "\n",
    "    # If start and stop are provided, crop the data\n",
    "    if start is not None and stop is not None:\n",
    "        # Convert tmin/tmax to sample numbers\n",
    "        tmin = (start - time_start).total_seconds() * sampling_rate\n",
    "        tmax = (stop - time_start).total_seconds() * sampling_rate\n",
    "\n",
    "        # Crop the data to the relevant time\n",
    "        data = data[tmin.astype(np.int64) : tmax.astype(np.int64) + 1, :]\n",
    "\n",
    "    return data, sampling_rate"
   ]
  },
  {
   "attachments": {},
   "cell_type": "markdown",
   "metadata": {},
   "source": [
    "### Munging"
   ]
  },
  {
   "cell_type": "code",
   "execution_count": 6,
   "metadata": {},
   "outputs": [
    {
     "name": "stderr",
     "output_type": "stream",
     "text": [
      "  0%|          | 0/65 [00:00<?, ?it/s]"
     ]
    },
    {
     "name": "stdout",
     "output_type": "stream",
     "text": [
      "Saving to:  M:/Sleep/Cache/Subject02/Apr26\\S02_Apr26_micro__2___mat_to_mat\\S02_Channel193_right_CLA.mat\n"
     ]
    },
    {
     "name": "stderr",
     "output_type": "stream",
     "text": [
      "  2%|▏         | 1/65 [05:39<6:02:00, 339.38s/it]"
     ]
    },
    {
     "name": "stdout",
     "output_type": "stream",
     "text": [
      "Saving to:  M:/Sleep/Cache/Subject02/Apr26\\S02_Apr26_micro__2___mat_to_mat\\S02_Channel194_right_CLA.mat\n"
     ]
    },
    {
     "name": "stderr",
     "output_type": "stream",
     "text": [
      "  3%|▎         | 2/65 [11:21<5:58:06, 341.05s/it]"
     ]
    },
    {
     "name": "stdout",
     "output_type": "stream",
     "text": [
      "Saving to:  M:/Sleep/Cache/Subject02/Apr26\\S02_Apr26_micro__2___mat_to_mat\\S02_Channel195_right_CLA.mat\n"
     ]
    },
    {
     "name": "stderr",
     "output_type": "stream",
     "text": [
      "  5%|▍         | 3/65 [17:33<6:06:58, 355.13s/it]"
     ]
    },
    {
     "name": "stdout",
     "output_type": "stream",
     "text": [
      "Saving to:  M:/Sleep/Cache/Subject02/Apr26\\S02_Apr26_micro__2___mat_to_mat\\S02_Channel196_right_CLA.mat\n"
     ]
    },
    {
     "name": "stderr",
     "output_type": "stream",
     "text": [
      "  6%|▌         | 4/65 [22:52<5:46:42, 341.03s/it]"
     ]
    },
    {
     "name": "stdout",
     "output_type": "stream",
     "text": [
      "Saving to:  M:/Sleep/Cache/Subject02/Apr26\\S02_Apr26_micro__2___mat_to_mat\\S02_Channel197_right_CLA.mat\n"
     ]
    },
    {
     "name": "stderr",
     "output_type": "stream",
     "text": [
      "  8%|▊         | 5/65 [28:21<5:36:25, 336.42s/it]"
     ]
    },
    {
     "name": "stdout",
     "output_type": "stream",
     "text": [
      "Saving to:  M:/Sleep/Cache/Subject02/Apr26\\S02_Apr26_micro__2___mat_to_mat\\S02_Channel198_right_CLA.mat\n"
     ]
    },
    {
     "name": "stderr",
     "output_type": "stream",
     "text": [
      "  9%|▉         | 6/65 [33:57<5:30:46, 336.38s/it]"
     ]
    },
    {
     "name": "stdout",
     "output_type": "stream",
     "text": [
      "Saving to:  M:/Sleep/Cache/Subject02/Apr26\\S02_Apr26_micro__2___mat_to_mat\\S02_Channel199_right_CLA.mat\n"
     ]
    },
    {
     "name": "stderr",
     "output_type": "stream",
     "text": [
      " 11%|█         | 7/65 [39:20<5:21:02, 332.11s/it]"
     ]
    },
    {
     "name": "stdout",
     "output_type": "stream",
     "text": [
      "Saving to:  M:/Sleep/Cache/Subject02/Apr26\\S02_Apr26_micro__2___mat_to_mat\\S02_Channel200_right_CLA.mat\n"
     ]
    },
    {
     "name": "stderr",
     "output_type": "stream",
     "text": [
      " 12%|█▏        | 8/65 [44:50<5:14:39, 331.21s/it]"
     ]
    },
    {
     "name": "stdout",
     "output_type": "stream",
     "text": [
      "Saving to:  M:/Sleep/Cache/Subject02/Apr26\\S02_Apr26_micro__2___mat_to_mat\\S02_Channel201_left_CLA.mat\n"
     ]
    },
    {
     "name": "stderr",
     "output_type": "stream",
     "text": [
      " 14%|█▍        | 9/65 [50:11<5:06:25, 328.31s/it]"
     ]
    },
    {
     "name": "stdout",
     "output_type": "stream",
     "text": [
      "Saving to:  M:/Sleep/Cache/Subject02/Apr26\\S02_Apr26_micro__2___mat_to_mat\\S02_Channel202_left_CLA.mat\n"
     ]
    },
    {
     "name": "stderr",
     "output_type": "stream",
     "text": [
      " 15%|█▌        | 10/65 [55:34<4:59:11, 326.39s/it]"
     ]
    },
    {
     "name": "stdout",
     "output_type": "stream",
     "text": [
      "Saving to:  M:/Sleep/Cache/Subject02/Apr26\\S02_Apr26_micro__2___mat_to_mat\\S02_Channel203_left_CLA.mat\n"
     ]
    },
    {
     "name": "stderr",
     "output_type": "stream",
     "text": [
      " 17%|█▋        | 11/65 [1:01:01<4:54:08, 326.83s/it]"
     ]
    },
    {
     "name": "stdout",
     "output_type": "stream",
     "text": [
      "Saving to:  M:/Sleep/Cache/Subject02/Apr26\\S02_Apr26_micro__2___mat_to_mat\\S02_Channel204_left_CLA.mat\n"
     ]
    },
    {
     "name": "stderr",
     "output_type": "stream",
     "text": [
      " 18%|█▊        | 12/65 [1:06:20<4:46:23, 324.22s/it]"
     ]
    },
    {
     "name": "stdout",
     "output_type": "stream",
     "text": [
      "Saving to:  M:/Sleep/Cache/Subject02/Apr26\\S02_Apr26_micro__2___mat_to_mat\\S02_Channel205_left_CLA.mat\n"
     ]
    },
    {
     "name": "stderr",
     "output_type": "stream",
     "text": [
      " 20%|██        | 13/65 [1:11:29<4:37:02, 319.66s/it]"
     ]
    },
    {
     "name": "stdout",
     "output_type": "stream",
     "text": [
      "Saving to:  M:/Sleep/Cache/Subject02/Apr26\\S02_Apr26_micro__2___mat_to_mat\\S02_Channel206_left_CLA.mat\n"
     ]
    },
    {
     "name": "stderr",
     "output_type": "stream",
     "text": [
      " 22%|██▏       | 14/65 [1:16:59<4:34:28, 322.91s/it]"
     ]
    },
    {
     "name": "stdout",
     "output_type": "stream",
     "text": [
      "Saving to:  M:/Sleep/Cache/Subject02/Apr26\\S02_Apr26_micro__2___mat_to_mat\\S02_Channel207_left_CLA.mat\n"
     ]
    },
    {
     "name": "stderr",
     "output_type": "stream",
     "text": [
      " 23%|██▎       | 15/65 [1:22:30<4:31:00, 325.21s/it]"
     ]
    },
    {
     "name": "stdout",
     "output_type": "stream",
     "text": [
      "Saving to:  M:/Sleep/Cache/Subject02/Apr26\\S02_Apr26_micro__2___mat_to_mat\\S02_Channel208_left_CLA.mat\n"
     ]
    },
    {
     "name": "stderr",
     "output_type": "stream",
     "text": [
      " 25%|██▍       | 16/65 [1:27:45<4:23:12, 322.29s/it]"
     ]
    },
    {
     "name": "stdout",
     "output_type": "stream",
     "text": [
      "Saving to:  M:/Sleep/Cache/Subject02/Apr26\\S02_Apr26_micro__2___mat_to_mat\\S02_Channel209_right_aINS.mat\n"
     ]
    },
    {
     "name": "stderr",
     "output_type": "stream",
     "text": [
      " 26%|██▌       | 17/65 [1:33:37<4:24:48, 331.01s/it]"
     ]
    },
    {
     "name": "stdout",
     "output_type": "stream",
     "text": [
      "Saving to:  M:/Sleep/Cache/Subject02/Apr26\\S02_Apr26_micro__2___mat_to_mat\\S02_Channel210_right_aINS.mat\n"
     ]
    },
    {
     "name": "stderr",
     "output_type": "stream",
     "text": [
      " 28%|██▊       | 18/65 [1:39:16<4:21:14, 333.49s/it]"
     ]
    },
    {
     "name": "stdout",
     "output_type": "stream",
     "text": [
      "Saving to:  M:/Sleep/Cache/Subject02/Apr26\\S02_Apr26_micro__2___mat_to_mat\\S02_Channel211_right_aINS.mat\n"
     ]
    },
    {
     "name": "stderr",
     "output_type": "stream",
     "text": [
      " 29%|██▉       | 19/65 [1:45:03<4:18:55, 337.73s/it]"
     ]
    },
    {
     "name": "stdout",
     "output_type": "stream",
     "text": [
      "Saving to:  M:/Sleep/Cache/Subject02/Apr26\\S02_Apr26_micro__2___mat_to_mat\\S02_Channel212_right_aINS.mat\n"
     ]
    },
    {
     "name": "stderr",
     "output_type": "stream",
     "text": [
      " 31%|███       | 20/65 [1:50:37<4:12:17, 336.39s/it]"
     ]
    },
    {
     "name": "stdout",
     "output_type": "stream",
     "text": [
      "Saving to:  M:/Sleep/Cache/Subject02/Apr26\\S02_Apr26_micro__2___mat_to_mat\\S02_Channel213_right_aINS.mat\n"
     ]
    },
    {
     "name": "stderr",
     "output_type": "stream",
     "text": [
      " 32%|███▏      | 21/65 [1:56:20<4:08:18, 338.60s/it]"
     ]
    },
    {
     "name": "stdout",
     "output_type": "stream",
     "text": [
      "Saving to:  M:/Sleep/Cache/Subject02/Apr26\\S02_Apr26_micro__2___mat_to_mat\\S02_Channel214_right_aINS.mat\n"
     ]
    },
    {
     "name": "stderr",
     "output_type": "stream",
     "text": [
      " 34%|███▍      | 22/65 [2:02:13<4:05:36, 342.71s/it]"
     ]
    },
    {
     "name": "stdout",
     "output_type": "stream",
     "text": [
      "Saving to:  M:/Sleep/Cache/Subject02/Apr26\\S02_Apr26_micro__2___mat_to_mat\\S02_Channel215_right_aINS.mat\n"
     ]
    },
    {
     "name": "stderr",
     "output_type": "stream",
     "text": [
      " 35%|███▌      | 23/65 [2:08:03<4:01:27, 344.94s/it]"
     ]
    },
    {
     "name": "stdout",
     "output_type": "stream",
     "text": [
      "Saving to:  M:/Sleep/Cache/Subject02/Apr26\\S02_Apr26_micro__2___mat_to_mat\\S02_Channel216_right_aINS.mat\n"
     ]
    },
    {
     "name": "stderr",
     "output_type": "stream",
     "text": [
      " 37%|███▋      | 24/65 [2:13:44<3:54:59, 343.89s/it]"
     ]
    },
    {
     "name": "stdout",
     "output_type": "stream",
     "text": [
      "Saving to:  M:/Sleep/Cache/Subject02/Apr26\\S02_Apr26_micro__2___mat_to_mat\\S02_Channel217_left_aINS.mat\n"
     ]
    },
    {
     "name": "stderr",
     "output_type": "stream",
     "text": [
      " 38%|███▊      | 25/65 [2:19:17<3:47:02, 340.55s/it]"
     ]
    },
    {
     "name": "stdout",
     "output_type": "stream",
     "text": [
      "Saving to:  M:/Sleep/Cache/Subject02/Apr26\\S02_Apr26_micro__2___mat_to_mat\\S02_Channel218_left_aINS.mat\n"
     ]
    },
    {
     "name": "stderr",
     "output_type": "stream",
     "text": [
      " 40%|████      | 26/65 [2:24:26<3:35:13, 331.12s/it]"
     ]
    },
    {
     "name": "stdout",
     "output_type": "stream",
     "text": [
      "Saving to:  M:/Sleep/Cache/Subject02/Apr26\\S02_Apr26_micro__2___mat_to_mat\\S02_Channel219_left_aINS.mat\n"
     ]
    },
    {
     "name": "stderr",
     "output_type": "stream",
     "text": [
      " 42%|████▏     | 27/65 [2:29:58<3:29:47, 331.25s/it]"
     ]
    },
    {
     "name": "stdout",
     "output_type": "stream",
     "text": [
      "Saving to:  M:/Sleep/Cache/Subject02/Apr26\\S02_Apr26_micro__2___mat_to_mat\\S02_Channel220_left_aINS.mat\n"
     ]
    },
    {
     "name": "stderr",
     "output_type": "stream",
     "text": [
      " 43%|████▎     | 28/65 [2:35:27<3:23:52, 330.61s/it]"
     ]
    },
    {
     "name": "stdout",
     "output_type": "stream",
     "text": [
      "Saving to:  M:/Sleep/Cache/Subject02/Apr26\\S02_Apr26_micro__2___mat_to_mat\\S02_Channel221_left_aINS.mat\n"
     ]
    },
    {
     "name": "stderr",
     "output_type": "stream",
     "text": [
      " 45%|████▍     | 29/65 [2:41:04<3:19:31, 332.53s/it]"
     ]
    },
    {
     "name": "stdout",
     "output_type": "stream",
     "text": [
      "Saving to:  M:/Sleep/Cache/Subject02/Apr26\\S02_Apr26_micro__2___mat_to_mat\\S02_Channel222_left_aINS.mat\n"
     ]
    },
    {
     "name": "stderr",
     "output_type": "stream",
     "text": [
      " 46%|████▌     | 30/65 [2:46:46<3:15:37, 335.35s/it]"
     ]
    },
    {
     "name": "stdout",
     "output_type": "stream",
     "text": [
      "Saving to:  M:/Sleep/Cache/Subject02/Apr26\\S02_Apr26_micro__2___mat_to_mat\\S02_Channel223_left_aINS.mat\n"
     ]
    },
    {
     "name": "stderr",
     "output_type": "stream",
     "text": [
      " 48%|████▊     | 31/65 [2:52:26<3:10:45, 336.64s/it]"
     ]
    },
    {
     "name": "stdout",
     "output_type": "stream",
     "text": [
      "Saving to:  M:/Sleep/Cache/Subject02/Apr26\\S02_Apr26_micro__2___mat_to_mat\\S02_Channel224_left_aINS.mat\n"
     ]
    },
    {
     "name": "stderr",
     "output_type": "stream",
     "text": [
      " 49%|████▉     | 32/65 [2:57:59<3:04:42, 335.83s/it]"
     ]
    },
    {
     "name": "stdout",
     "output_type": "stream",
     "text": [
      "Saving to:  M:/Sleep/Cache/Subject02/Apr26\\S02_Apr26_micro__2___mat_to_mat\\S02_Channel225_right_HPC.mat\n"
     ]
    },
    {
     "name": "stderr",
     "output_type": "stream",
     "text": [
      " 51%|█████     | 33/65 [3:03:48<3:01:05, 339.56s/it]"
     ]
    },
    {
     "name": "stdout",
     "output_type": "stream",
     "text": [
      "Saving to:  M:/Sleep/Cache/Subject02/Apr26\\S02_Apr26_micro__2___mat_to_mat\\S02_Channel226_right_HPC.mat\n"
     ]
    },
    {
     "name": "stderr",
     "output_type": "stream",
     "text": [
      " 52%|█████▏    | 34/65 [3:09:29<2:55:40, 340.02s/it]"
     ]
    },
    {
     "name": "stdout",
     "output_type": "stream",
     "text": [
      "Saving to:  M:/Sleep/Cache/Subject02/Apr26\\S02_Apr26_micro__2___mat_to_mat\\S02_Channel227_right_HPC.mat\n"
     ]
    },
    {
     "name": "stderr",
     "output_type": "stream",
     "text": [
      " 54%|█████▍    | 35/65 [3:14:53<2:47:36, 335.21s/it]"
     ]
    },
    {
     "name": "stdout",
     "output_type": "stream",
     "text": [
      "Saving to:  M:/Sleep/Cache/Subject02/Apr26\\S02_Apr26_micro__2___mat_to_mat\\S02_Channel228_right_HPC.mat\n"
     ]
    },
    {
     "name": "stderr",
     "output_type": "stream",
     "text": [
      " 55%|█████▌    | 36/65 [3:20:29<2:42:06, 335.39s/it]"
     ]
    },
    {
     "name": "stdout",
     "output_type": "stream",
     "text": [
      "Saving to:  M:/Sleep/Cache/Subject02/Apr26\\S02_Apr26_micro__2___mat_to_mat\\S02_Channel229_right_HPC.mat\n"
     ]
    },
    {
     "name": "stderr",
     "output_type": "stream",
     "text": [
      " 57%|█████▋    | 37/65 [3:26:18<2:38:29, 339.61s/it]"
     ]
    },
    {
     "name": "stdout",
     "output_type": "stream",
     "text": [
      "Saving to:  M:/Sleep/Cache/Subject02/Apr26\\S02_Apr26_micro__2___mat_to_mat\\S02_Channel230_right_HPC.mat\n"
     ]
    },
    {
     "name": "stderr",
     "output_type": "stream",
     "text": [
      " 58%|█████▊    | 38/65 [3:31:51<2:31:57, 337.69s/it]"
     ]
    },
    {
     "name": "stdout",
     "output_type": "stream",
     "text": [
      "Saving to:  M:/Sleep/Cache/Subject02/Apr26\\S02_Apr26_micro__2___mat_to_mat\\S02_Channel231_right_HPC.mat\n"
     ]
    },
    {
     "name": "stderr",
     "output_type": "stream",
     "text": [
      " 60%|██████    | 39/65 [3:37:19<2:25:00, 334.63s/it]"
     ]
    },
    {
     "name": "stdout",
     "output_type": "stream",
     "text": [
      "Saving to:  M:/Sleep/Cache/Subject02/Apr26\\S02_Apr26_micro__2___mat_to_mat\\S02_Channel232_right_HPC.mat\n"
     ]
    },
    {
     "name": "stderr",
     "output_type": "stream",
     "text": [
      " 62%|██████▏   | 40/65 [3:42:39<2:17:41, 330.45s/it]"
     ]
    },
    {
     "name": "stdout",
     "output_type": "stream",
     "text": [
      "Saving to:  M:/Sleep/Cache/Subject02/Apr26\\S02_Apr26_micro__2___mat_to_mat\\S02_Channel233_left_HPC.mat\n"
     ]
    },
    {
     "name": "stderr",
     "output_type": "stream",
     "text": [
      " 63%|██████▎   | 41/65 [3:48:37<2:15:24, 338.54s/it]"
     ]
    },
    {
     "name": "stdout",
     "output_type": "stream",
     "text": [
      "Saving to:  M:/Sleep/Cache/Subject02/Apr26\\S02_Apr26_micro__2___mat_to_mat\\S02_Channel234_left_HPC.mat\n"
     ]
    },
    {
     "name": "stderr",
     "output_type": "stream",
     "text": [
      " 65%|██████▍   | 42/65 [3:54:27<2:11:04, 341.93s/it]"
     ]
    },
    {
     "name": "stdout",
     "output_type": "stream",
     "text": [
      "Saving to:  M:/Sleep/Cache/Subject02/Apr26\\S02_Apr26_micro__2___mat_to_mat\\S02_Channel235_left_HPC.mat\n"
     ]
    },
    {
     "name": "stderr",
     "output_type": "stream",
     "text": [
      " 66%|██████▌   | 43/65 [4:00:18<2:06:22, 344.64s/it]"
     ]
    },
    {
     "name": "stdout",
     "output_type": "stream",
     "text": [
      "Saving to:  M:/Sleep/Cache/Subject02/Apr26\\S02_Apr26_micro__2___mat_to_mat\\S02_Channel236_left_HPC.mat\n"
     ]
    },
    {
     "name": "stderr",
     "output_type": "stream",
     "text": [
      " 68%|██████▊   | 44/65 [4:06:21<2:02:33, 350.18s/it]"
     ]
    },
    {
     "name": "stdout",
     "output_type": "stream",
     "text": [
      "Saving to:  M:/Sleep/Cache/Subject02/Apr26\\S02_Apr26_micro__2___mat_to_mat\\S02_Channel237_left_HPC.mat\n"
     ]
    },
    {
     "name": "stderr",
     "output_type": "stream",
     "text": [
      " 69%|██████▉   | 45/65 [4:11:55<1:55:05, 345.29s/it]"
     ]
    },
    {
     "name": "stdout",
     "output_type": "stream",
     "text": [
      "Saving to:  M:/Sleep/Cache/Subject02/Apr26\\S02_Apr26_micro__2___mat_to_mat\\S02_Channel238_left_HPC.mat\n"
     ]
    },
    {
     "name": "stderr",
     "output_type": "stream",
     "text": [
      " 71%|███████   | 46/65 [4:18:02<1:51:27, 351.98s/it]"
     ]
    },
    {
     "name": "stdout",
     "output_type": "stream",
     "text": [
      "Saving to:  M:/Sleep/Cache/Subject02/Apr26\\S02_Apr26_micro__2___mat_to_mat\\S02_Channel239_left_HPC.mat\n"
     ]
    },
    {
     "name": "stderr",
     "output_type": "stream",
     "text": [
      " 72%|███████▏  | 47/65 [4:24:06<1:46:36, 355.38s/it]"
     ]
    },
    {
     "name": "stdout",
     "output_type": "stream",
     "text": [
      "Saving to:  M:/Sleep/Cache/Subject02/Apr26\\S02_Apr26_micro__2___mat_to_mat\\S02_Channel240_left_HPC.mat\n"
     ]
    },
    {
     "name": "stderr",
     "output_type": "stream",
     "text": [
      " 74%|███████▍  | 48/65 [4:30:11<1:41:34, 358.48s/it]"
     ]
    },
    {
     "name": "stdout",
     "output_type": "stream",
     "text": [
      "Saving to:  M:/Sleep/Cache/Subject02/Apr26\\S02_Apr26_micro__2___mat_to_mat\\S02_Channel241_right_AMY.mat\n"
     ]
    },
    {
     "name": "stderr",
     "output_type": "stream",
     "text": [
      " 75%|███████▌  | 49/65 [4:35:54<1:34:21, 353.83s/it]"
     ]
    },
    {
     "name": "stdout",
     "output_type": "stream",
     "text": [
      "Saving to:  M:/Sleep/Cache/Subject02/Apr26\\S02_Apr26_micro__2___mat_to_mat\\S02_Channel242_right_AMY.mat\n"
     ]
    },
    {
     "name": "stderr",
     "output_type": "stream",
     "text": [
      " 77%|███████▋  | 50/65 [4:41:15<1:25:56, 343.79s/it]"
     ]
    },
    {
     "name": "stdout",
     "output_type": "stream",
     "text": [
      "Saving to:  M:/Sleep/Cache/Subject02/Apr26\\S02_Apr26_micro__2___mat_to_mat\\S02_Channel243_right_AMY.mat\n"
     ]
    },
    {
     "name": "stderr",
     "output_type": "stream",
     "text": [
      " 78%|███████▊  | 51/65 [4:47:07<1:20:48, 346.36s/it]"
     ]
    },
    {
     "name": "stdout",
     "output_type": "stream",
     "text": [
      "Saving to:  M:/Sleep/Cache/Subject02/Apr26\\S02_Apr26_micro__2___mat_to_mat\\S02_Channel244_right_AMY.mat\n"
     ]
    },
    {
     "name": "stderr",
     "output_type": "stream",
     "text": [
      " 80%|████████  | 52/65 [4:52:54<1:15:05, 346.57s/it]"
     ]
    },
    {
     "name": "stdout",
     "output_type": "stream",
     "text": [
      "Saving to:  M:/Sleep/Cache/Subject02/Apr26\\S02_Apr26_micro__2___mat_to_mat\\S02_Channel245_right_AMY.mat\n"
     ]
    },
    {
     "name": "stderr",
     "output_type": "stream",
     "text": [
      " 82%|████████▏ | 53/65 [4:58:26<1:08:26, 342.18s/it]"
     ]
    },
    {
     "name": "stdout",
     "output_type": "stream",
     "text": [
      "Saving to:  M:/Sleep/Cache/Subject02/Apr26\\S02_Apr26_micro__2___mat_to_mat\\S02_Channel246_right_AMY.mat\n"
     ]
    },
    {
     "name": "stderr",
     "output_type": "stream",
     "text": [
      " 83%|████████▎ | 54/65 [5:03:54<1:01:57, 337.99s/it]"
     ]
    },
    {
     "name": "stdout",
     "output_type": "stream",
     "text": [
      "Saving to:  M:/Sleep/Cache/Subject02/Apr26\\S02_Apr26_micro__2___mat_to_mat\\S02_Channel247_right_AMY.mat\n"
     ]
    },
    {
     "name": "stderr",
     "output_type": "stream",
     "text": [
      " 85%|████████▍ | 55/65 [5:09:43<56:52, 341.28s/it]  "
     ]
    },
    {
     "name": "stdout",
     "output_type": "stream",
     "text": [
      "Saving to:  M:/Sleep/Cache/Subject02/Apr26\\S02_Apr26_micro__2___mat_to_mat\\S02_Channel248_right_AMY.mat\n"
     ]
    },
    {
     "name": "stderr",
     "output_type": "stream",
     "text": [
      " 86%|████████▌ | 56/65 [5:15:12<50:38, 337.64s/it]"
     ]
    },
    {
     "name": "stdout",
     "output_type": "stream",
     "text": [
      "Saving to:  M:/Sleep/Cache/Subject02/Apr26\\S02_Apr26_micro__2___mat_to_mat\\S02_Channel249_left_AMY.mat\n"
     ]
    },
    {
     "name": "stderr",
     "output_type": "stream",
     "text": [
      " 88%|████████▊ | 57/65 [5:20:35<44:25, 333.19s/it]"
     ]
    },
    {
     "name": "stdout",
     "output_type": "stream",
     "text": [
      "Saving to:  M:/Sleep/Cache/Subject02/Apr26\\S02_Apr26_micro__2___mat_to_mat\\S02_Channel250_left_AMY.mat\n"
     ]
    },
    {
     "name": "stderr",
     "output_type": "stream",
     "text": [
      " 89%|████████▉ | 58/65 [5:25:46<38:06, 326.60s/it]"
     ]
    },
    {
     "name": "stdout",
     "output_type": "stream",
     "text": [
      "Saving to:  M:/Sleep/Cache/Subject02/Apr26\\S02_Apr26_micro__2___mat_to_mat\\S02_Channel251_left_AMY.mat\n"
     ]
    },
    {
     "name": "stderr",
     "output_type": "stream",
     "text": [
      " 91%|█████████ | 59/65 [5:31:15<32:42, 327.15s/it]"
     ]
    },
    {
     "name": "stdout",
     "output_type": "stream",
     "text": [
      "Saving to:  M:/Sleep/Cache/Subject02/Apr26\\S02_Apr26_micro__2___mat_to_mat\\S02_Channel252_left_AMY.mat\n"
     ]
    },
    {
     "name": "stderr",
     "output_type": "stream",
     "text": [
      " 92%|█████████▏| 60/65 [5:36:44<27:18, 327.72s/it]"
     ]
    },
    {
     "name": "stdout",
     "output_type": "stream",
     "text": [
      "Saving to:  M:/Sleep/Cache/Subject02/Apr26\\S02_Apr26_micro__2___mat_to_mat\\S02_Channel253_left_AMY.mat\n"
     ]
    },
    {
     "name": "stderr",
     "output_type": "stream",
     "text": [
      " 94%|█████████▍| 61/65 [5:42:07<21:45, 326.40s/it]"
     ]
    },
    {
     "name": "stdout",
     "output_type": "stream",
     "text": [
      "Saving to:  M:/Sleep/Cache/Subject02/Apr26\\S02_Apr26_micro__2___mat_to_mat\\S02_Channel254_left_AMY.mat\n"
     ]
    },
    {
     "name": "stderr",
     "output_type": "stream",
     "text": [
      " 95%|█████████▌| 62/65 [5:47:33<16:19, 326.39s/it]"
     ]
    },
    {
     "name": "stdout",
     "output_type": "stream",
     "text": [
      "Saving to:  M:/Sleep/Cache/Subject02/Apr26\\S02_Apr26_micro__2___mat_to_mat\\S02_Channel255_left_AMY.mat\n"
     ]
    },
    {
     "name": "stderr",
     "output_type": "stream",
     "text": [
      " 97%|█████████▋| 63/65 [5:53:01<10:53, 326.69s/it]"
     ]
    },
    {
     "name": "stdout",
     "output_type": "stream",
     "text": [
      "Saving to:  M:/Sleep/Cache/Subject02/Apr26\\S02_Apr26_micro__2___mat_to_mat\\S02_Channel256_left_AMY.mat\n"
     ]
    },
    {
     "name": "stderr",
     "output_type": "stream",
     "text": [
      " 98%|█████████▊| 64/65 [5:58:48<05:36, 336.39s/it]\n"
     ]
    },
    {
     "ename": "TypeError",
     "evalue": "can only concatenate str (not \"float\") to str",
     "output_type": "error",
     "traceback": [
      "\u001b[1;31m---------------------------------------------------------------------------\u001b[0m",
      "\u001b[1;31mTypeError\u001b[0m                                 Traceback (most recent call last)",
      "\u001b[1;32mg:\\My Drive\\Residency\\Research\\Lab - Damisah\\Project - Sleep\\Source\\slp__wclus_1___preprocess_mat.ipynb Cell 10\u001b[0m in \u001b[0;36m<cell line: 1>\u001b[1;34m()\u001b[0m\n\u001b[0;32m     <a href='vscode-notebook-cell:/g%3A/My%20Drive/Residency/Research/Lab%20-%20Damisah/Project%20-%20Sleep/Source/slp__wclus_1___preprocess_mat.ipynb#X14sZmlsZQ%3D%3D?line=13'>14</a>\u001b[0m name_columns \u001b[39m=\u001b[39m [\u001b[39m'\u001b[39m\u001b[39mlaterality\u001b[39m\u001b[39m'\u001b[39m, \u001b[39m'\u001b[39m\u001b[39mregion\u001b[39m\u001b[39m'\u001b[39m]\n\u001b[0;32m     <a href='vscode-notebook-cell:/g%3A/My%20Drive/Residency/Research/Lab%20-%20Damisah/Project%20-%20Sleep/Source/slp__wclus_1___preprocess_mat.ipynb#X14sZmlsZQ%3D%3D?line=14'>15</a>\u001b[0m file_suffix \u001b[39m=\u001b[39m ch_dictionary\u001b[39m.\u001b[39mloc[ch_dictionary[\u001b[39m'\u001b[39m\u001b[39mnumber\u001b[39m\u001b[39m'\u001b[39m] \u001b[39m==\u001b[39m regex, name_columns]\n\u001b[1;32m---> <a href='vscode-notebook-cell:/g%3A/My%20Drive/Residency/Research/Lab%20-%20Damisah/Project%20-%20Sleep/Source/slp__wclus_1___preprocess_mat.ipynb#X14sZmlsZQ%3D%3D?line=15'>16</a>\u001b[0m file_suffix \u001b[39m=\u001b[39m \u001b[39m'\u001b[39;49m\u001b[39m_\u001b[39;49m\u001b[39m'\u001b[39;49m \u001b[39m+\u001b[39;49m file_suffix\u001b[39m.\u001b[39;49miloc[\u001b[39m0\u001b[39;49m][\u001b[39m'\u001b[39;49m\u001b[39mlaterality\u001b[39;49m\u001b[39m'\u001b[39;49m] \u001b[39m+\u001b[39m \u001b[39m'\u001b[39m\u001b[39m_\u001b[39m\u001b[39m'\u001b[39m \u001b[39m+\u001b[39m file_suffix\u001b[39m.\u001b[39miloc[\u001b[39m0\u001b[39m][\u001b[39m'\u001b[39m\u001b[39mregion\u001b[39m\u001b[39m'\u001b[39m]\n\u001b[0;32m     <a href='vscode-notebook-cell:/g%3A/My%20Drive/Residency/Research/Lab%20-%20Damisah/Project%20-%20Sleep/Source/slp__wclus_1___preprocess_mat.ipynb#X14sZmlsZQ%3D%3D?line=17'>18</a>\u001b[0m file_save_path \u001b[39m=\u001b[39m os\u001b[39m.\u001b[39mpath\u001b[39m.\u001b[39mjoin(dir_base, dir_to, file_name \u001b[39m+\u001b[39m file_suffix \u001b[39m+\u001b[39m \u001b[39m'\u001b[39m\u001b[39m.mat\u001b[39m\u001b[39m'\u001b[39m)\n\u001b[0;32m     <a href='vscode-notebook-cell:/g%3A/My%20Drive/Residency/Research/Lab%20-%20Damisah/Project%20-%20Sleep/Source/slp__wclus_1___preprocess_mat.ipynb#X14sZmlsZQ%3D%3D?line=18'>19</a>\u001b[0m \u001b[39mprint\u001b[39m(\u001b[39m\"\u001b[39m\u001b[39mSaving to: \u001b[39m\u001b[39m\"\u001b[39m, file_save_path)\n",
      "\u001b[1;31mTypeError\u001b[0m: can only concatenate str (not \"float\") to str"
     ]
    }
   ],
   "source": [
    "for file in tqdm(file_list):\n",
    "    # Import .MAT files into Python and format into Numpy objects\n",
    "    # (this will also crop the data to the relevant times)\n",
    "    file_path = os.path.join(dir_base, dir_from, file)\n",
    "    data, sampling_rate = mat_to_npy(file_path, tmin, tmax)\n",
    "\n",
    "    # Extract the channel number from the file name\n",
    "    file_name = os.path.splitext(file)[0]\n",
    "    regex = re.compile('_Channel([0-9]*)')\n",
    "    regex = regex.findall(file_name)\n",
    "    regex = int(regex[0])\n",
    "\n",
    "    # Add region and laterality to the file name\n",
    "    name_columns = ['laterality', 'region']\n",
    "    file_suffix = ch_dictionary.loc[ch_dictionary['number'] == regex, name_columns]\n",
    "    file_suffix = '_' + file_suffix.iloc[0]['laterality'] + '_' + file_suffix.iloc[0]['region']\n",
    "\n",
    "    file_save_path = os.path.join(dir_base, dir_to, file_name + file_suffix + '.mat')\n",
    "    print(\"Saving to: \", file_save_path)\n",
    "\n",
    "    # Please note that the field can ONLY BE NAMED \"data\"\n",
    "    # because Waveclus will only recognize MAT files where\n",
    "    # the only field is named \"data\".\n",
    "    hdf5storage.savemat(file_name = file_save_path, \n",
    "                        mdict = {'data' : data}, \n",
    "                        format = '7.3')"
   ]
  }
 ],
 "metadata": {
  "kernelspec": {
   "display_name": "base",
   "language": "python",
   "name": "python3"
  },
  "language_info": {
   "codemirror_mode": {
    "name": "ipython",
    "version": 3
   },
   "file_extension": ".py",
   "mimetype": "text/x-python",
   "name": "python",
   "nbconvert_exporter": "python",
   "pygments_lexer": "ipython3",
   "version": "3.9.13"
  },
  "orig_nbformat": 4,
  "vscode": {
   "interpreter": {
    "hash": "daf354ff39ed4134915dcce37c5f76f05aabcc963defe39ef0309d2247baee4a"
   }
  }
 },
 "nbformat": 4,
 "nbformat_minor": 2
}
