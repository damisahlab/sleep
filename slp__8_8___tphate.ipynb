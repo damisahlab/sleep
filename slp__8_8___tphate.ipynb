{
 "cells": [
  {
   "cell_type": "markdown",
   "metadata": {},
   "source": [
    "### Configuration"
   ]
  },
  {
   "cell_type": "code",
   "execution_count": 1,
   "metadata": {},
   "outputs": [],
   "source": [
    "import os\n",
    "import pandas as pd\n",
    "import numpy as np\n",
    "\n",
    "from scipy.stats import zscore\n",
    "import tphate # requires Python 3.7 - 3.9\n",
    "\n",
    "from scipy.ndimage import gaussian_filter1d\n",
    "import matplotlib.pyplot as plt\n",
    "import seaborn as sns"
   ]
  },
  {
   "cell_type": "code",
   "execution_count": 2,
   "metadata": {},
   "outputs": [
    {
     "data": {
      "text/plain": [
       "'Z:\\\\Layton\\\\Sleep_083023'"
      ]
     },
     "execution_count": 2,
     "metadata": {},
     "output_type": "execute_result"
    }
   ],
   "source": [
    "import utils__config\n",
    "os.chdir(utils__config.working_directory)\n",
    "os.getcwd()"
   ]
  },
  {
   "cell_type": "markdown",
   "metadata": {},
   "source": [
    "### Parameters"
   ]
  },
  {
   "cell_type": "code",
   "execution_count": 3,
   "metadata": {},
   "outputs": [],
   "source": [
    "spike_path = 'Cache/Subject01/Feb02/S01_spike_epochs_10s.csv'\n",
    "swa_path = 'Cache/Subject01/Feb02/S01_sw_epochs_10s.csv'\n",
    "hypno_path = 'Cache/Subject01/Feb02/S01_hypno_epochs_10s.csv' \n",
    "plot_path = 'Results/S01_tphate_acc_10s.svg'\n",
    "\n",
    "micro_regions = ['ACC']"
   ]
  },
  {
   "cell_type": "markdown",
   "metadata": {},
   "source": [
    "### Pre-Processing"
   ]
  },
  {
   "cell_type": "code",
   "execution_count": 4,
   "metadata": {},
   "outputs": [],
   "source": [
    "# Load Data\n",
    "spikes = pd.read_csv(spike_path)\n",
    "\n",
    "# Calculate z-score of FR for units in the selected regions\n",
    "spikes = spikes[spikes.unit_region.isin(micro_regions)]\n",
    "spikes['zfr'] = spikes.groupby(['unit_id'])['fr'].transform(zscore).round(3)\n",
    "spikes = spikes.pivot(index = 'epoch', columns = 'unit_id', values = 'zfr')\n",
    "spikes.reset_index(drop = True, inplace = True)\n",
    "\n",
    "# Save unit ids\n",
    "unit_ids = spikes.columns.to_numpy()\n",
    "spikes.columns.name = None\n",
    "spikes.shape\n",
    "\n",
    "# Load hypnogram data\n",
    "hypno = pd.read_csv(hypno_path)"
   ]
  },
  {
   "cell_type": "markdown",
   "metadata": {},
   "source": [
    "### Dimensionality Reduction"
   ]
  },
  {
   "cell_type": "code",
   "execution_count": 5,
   "metadata": {},
   "outputs": [
    {
     "name": "stdout",
     "output_type": "stream",
     "text": [
      "Calculating TPHATE...\n",
      "  Running TPHATE on 721 observations and 4 variables.\n",
      "  Calculating graph and diffusion operator...\n",
      "    Calculating KNN search...\n",
      "    Calculated KNN search in 0.03 seconds.\n",
      "    Calculating affinities...\n",
      "  Calculated graph and diffusion operator in 0.03 seconds.\n",
      "  Learning the autocorrelation function...\n",
      "  Calculating Autocorr kernel...\n",
      "    Dropoff point: 49\n",
      "  Combining PHATE operator and autocorr operator\n",
      "  Calculating optimal t...\n"
     ]
    },
    {
     "name": "stderr",
     "output_type": "stream",
     "text": [
      "c:\\Users\\lal85\\AppData\\Local\\miniconda3\\envs\\tphate\\lib\\site-packages\\tphate\\graphs.py:290: RuntimeWarning: Detected zero distance between samples 28 and 140, 209 and 720, 534 and 544. Consider removing duplicates to avoid errors in downstream processing.\n",
      "  warnings.warn(\n"
     ]
    },
    {
     "name": "stdout",
     "output_type": "stream",
     "text": [
      "    Automatically selected t = 14\n",
      "  Calculated optimal t in 0.44 seconds.\n",
      "  Calculating diffusion potential...\n",
      "  Calculated diffusion potential in 0.03 seconds.\n",
      "  Calculating metric MDS...\n",
      "  Calculated metric MDS in 0.20 seconds.\n",
      "Calculated TPHATE in 0.80 seconds.\n"
     ]
    },
    {
     "data": {
      "text/plain": [
       "(721, 2)"
      ]
     },
     "execution_count": 5,
     "metadata": {},
     "output_type": "execute_result"
    }
   ],
   "source": [
    "### T-PHATE dimensionality reduction for time autocorrelation\n",
    "tp_model = tphate.TPHATE(n_components = 2, n_jobs = -2)\n",
    "small_data = tp_model.fit_transform(spikes.to_numpy())\n",
    "\n",
    "small_data.shape"
   ]
  },
  {
   "cell_type": "code",
   "execution_count": 6,
   "metadata": {},
   "outputs": [],
   "source": [
    "# Merge data with hypnogram information\n",
    "pd_data = pd.DataFrame(small_data).reset_index()\n",
    "pd_data.columns = ['epoch', 'TPHATE_1', 'TPHATE_2']\n",
    "pd_data = pd_data.merge(hypno, on = ['epoch'])\n",
    "\n",
    "# Map sleep stage numbers to sleep stages\n",
    "stage_long_map = {\n",
    "    -2: 'unscored',\n",
    "    -1: 'artifact',\n",
    "     0: 'wake',\n",
    "     1: 'N1',\n",
    "     2: 'N2',\n",
    "     3: 'N3',\n",
    "     4: 'REM'}\n",
    "\n",
    "pd_data['stage_long'] = pd_data['stage'].map(stage_long_map)\n",
    "\n",
    "# Map sleep stages to summary categories\n",
    "stage_short_map = {\n",
    "    'unscored': 'W/REM',\n",
    "    'artifact': 'W/REM',\n",
    "    'wake': 'W/REM',\n",
    "    'N1': 'Light Sleep',\n",
    "    'N2': 'Sleep',\n",
    "    'N3': 'Sleep',\n",
    "    'REM': 'W/REM'\n",
    "}\n",
    "\n",
    "pd_data['stage_short'] = pd_data['stage_long'].map(stage_short_map)\n",
    "\n",
    "# Merge data with SWA information\n",
    "swa_data = pd.read_csv(swa_path)\n",
    "swa_data = swa_data.groupby('epoch')['zlog_power'].mean().reset_index()\n",
    "pd_data = pd_data.merge(swa_data, on = 'epoch')\n",
    "\n",
    "# Scale the zlog_power column\n",
    "min_val = pd_data['zlog_power'].min()\n",
    "max_val = pd_data['zlog_power'].max()\n",
    "pd_data['zlog_power_scaled'] = (pd_data['zlog_power'] - min_val) / (max_val - min_val)\n",
    "\n",
    "# Smooth the scaled zlog_power\n",
    "sigma = 30\n",
    "pd_data['zlog_power_smooth'] = gaussian_filter1d(pd_data['zlog_power_scaled'], sigma)"
   ]
  },
  {
   "cell_type": "markdown",
   "metadata": {},
   "source": [
    "### Plotting"
   ]
  },
  {
   "cell_type": "code",
   "execution_count": 7,
   "metadata": {},
   "outputs": [
    {
     "data": {
      "image/png": "[encoded data removed]",
      "text/plain": [
       "<Figure size 600x500 with 2 Axes>"
      ]
     },
     "metadata": {},
     "output_type": "display_data"
    }
   ],
   "source": [
    "import matplotlib.pyplot as plt\n",
    "import seaborn as sns\n",
    "\n",
    "# Find starting point\n",
    "start_point = pd_data[pd_data['epoch'] == 0][['TPHATE_1', 'TPHATE_2']].iloc[0]\n",
    "end_point = pd_data.iloc[-1][['TPHATE_1', 'TPHATE_2']]\n",
    "\n",
    "# Define the color palette\n",
    "palette = sns.color_palette('YlGnBu', as_cmap=True) # or 'YlGnBu', 'flare', 'crest'\n",
    "\n",
    "# Plotting with a wider figure\n",
    "plt.figure(figsize=(6, 5))\n",
    "\n",
    "# Use plt.scatter directly to get a mappable object\n",
    "norm = plt.Normalize(pd_data['zlog_power_smooth'].min(), pd_data['zlog_power_smooth'].max())\n",
    "sc = plt.scatter(pd_data['TPHATE_1'], pd_data['TPHATE_2'], c=pd_data['zlog_power_smooth'], cmap=palette, norm=norm, edgecolor=None, alpha=1)\n",
    "\n",
    "# Add start and end points\n",
    "plt.scatter(start_point['TPHATE_1'], start_point['TPHATE_2'], color=\"#28cc9a\", s=100, label='Start', marker = 'D')\n",
    "plt.scatter(end_point['TPHATE_1'], end_point['TPHATE_2'], color=\"#E75480\", s=100, label='End', marker = 'D')\n",
    "\n",
    "# Remove ticks and set larger axis labels\n",
    "plt.xticks([])  # Remove x-axis ticks\n",
    "plt.yticks([])  # Remove y-axis ticks\n",
    "plt.xlabel('TPHATE_1', fontsize=14)\n",
    "plt.ylabel('TPHATE_2', fontsize=14)\n",
    "\n",
    "# Add a colorbar\n",
    "cbar = plt.colorbar(sc)\n",
    "cbar.set_label('SWA (a.u.)', fontsize=12)\n",
    "\n",
    "plt.tight_layout()  # Adjust layout to ensure everything fits\n",
    "plt.savefig(plot_path, format=\"svg\", bbox_inches='tight')  # Ensure the saved figure includes the colorbar\n",
    "plt.show()"
   ]
  }
 ],
 "metadata": {
  "kernelspec": {
   "display_name": "sandbox",
   "language": "python",
   "name": "python3"
  },
  "language_info": {
   "codemirror_mode": {
    "name": "ipython",
    "version": 3
   },
   "file_extension": ".py",
   "mimetype": "text/x-python",
   "name": "python",
   "nbconvert_exporter": "python",
   "pygments_lexer": "ipython3",
   "version": "3.9.0"
  },
  "orig_nbformat": 4
 },
 "nbformat": 4,
 "nbformat_minor": 2
}
