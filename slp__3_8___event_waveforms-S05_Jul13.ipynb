{
 "cells": [
  {
   "attachments": {},
   "cell_type": "markdown",
   "metadata": {},
   "source": [
    "### Configuration"
   ]
  },
  {
   "cell_type": "code",
   "execution_count": 1,
   "metadata": {},
   "outputs": [],
   "source": [
    "import os\n",
    "import numpy as np\n",
    "import pandas as pd\n",
    "\n",
    "import mne\n",
    "from tqdm import tqdm\n",
    "\n",
    "import utils__config"
   ]
  },
  {
   "cell_type": "code",
   "execution_count": 2,
   "metadata": {},
   "outputs": [
    {
     "data": {
      "text/plain": [
       "'Z:\\\\Layton\\\\Sleep_083023'"
      ]
     },
     "execution_count": 2,
     "metadata": {},
     "output_type": "execute_result"
    }
   ],
   "source": [
    "os.chdir(utils__config.working_directory)\n",
    "os.getcwd()"
   ]
  },
  {
   "attachments": {},
   "cell_type": "markdown",
   "metadata": {},
   "source": [
    "### Parameters"
   ]
  },
  {
   "cell_type": "code",
   "execution_count": 3,
   "metadata": {},
   "outputs": [],
   "source": [
    "fif_path = 'Cache/Subject05/Jul13/S05_Jul13_256hz.fif'\n",
    "dict_path = 'Data/Subject05/Jul13/S05_dictionary.xlsx'\n",
    "\n",
    "sw_path = 'Cache/Subject05/Jul13/S05_SW.csv'\n",
    "kc_path = 'Cache/Subject05/Jul13/S05_KC.csv'\n",
    "save_path = 'Cache/Subject05/Jul13/S05_event_epochs.csv'"
   ]
  },
  {
   "cell_type": "code",
   "execution_count": 4,
   "metadata": {},
   "outputs": [],
   "source": [
    "sampling_freq = 256"
   ]
  },
  {
   "attachments": {},
   "cell_type": "markdown",
   "metadata": {},
   "source": [
    "### Load Raw data"
   ]
  },
  {
   "cell_type": "code",
   "execution_count": 5,
   "metadata": {},
   "outputs": [
    {
     "name": "stdout",
     "output_type": "stream",
     "text": [
      "Opening raw data file Cache/Subject05/Jul13/S05_Jul13_256hz.fif...\n"
     ]
    },
    {
     "name": "stderr",
     "output_type": "stream",
     "text": [
      "C:\\Users\\lal85\\AppData\\Local\\Temp\\2\\ipykernel_42372\\2216903412.py:2: RuntimeWarning: This filename (Cache/Subject05/Jul13/S05_Jul13_256hz.fif) does not conform to MNE naming conventions. All raw files should end with raw.fif, raw_sss.fif, raw_tsss.fif, _meg.fif, _eeg.fif, _ieeg.fif, raw.fif.gz, raw_sss.fif.gz, raw_tsss.fif.gz, _meg.fif.gz, _eeg.fif.gz or _ieeg.fif.gz\n",
      "  raw = mne.io.read_raw_fif(fif_path, preload = True, verbose = None)\n"
     ]
    },
    {
     "name": "stdout",
     "output_type": "stream",
     "text": [
      "    Range : 0 ... 7249663 =      0.000 ... 28318.996 secs\n",
      "Ready.\n",
      "Opening raw data file Z:\\Layton\\Sleep_083023\\Cache\\Subject05\\Jul13\\S05_Jul13_256hz-1.fif...\n",
      "    Range : 7249664 ... 9584639 =  28319.000 ... 37439.996 secs\n",
      "Ready.\n",
      "Reading 0 ... 9584639  =      0.000 ... 37439.996 secs...\n",
      "Creating RawArray with float64 data, n_channels=1, n_times=9584640\n",
      "    Range : 0 ... 9584639 =      0.000 ... 37439.996 secs\n",
      "Ready.\n"
     ]
    }
   ],
   "source": [
    "# Load LFP data\n",
    "raw = mne.io.read_raw_fif(fif_path, preload = True, verbose = None)\n",
    "\n",
    "# Record the first sample (which is not 0 since the Raw\n",
    "# file was cropped from the original); you will need this\n",
    "# to appropriately select the sleep event sample number\n",
    "first_raw_sample = raw.first_samp\n",
    "\n",
    "# Remove unnecessary channels\n",
    "#dictionary = pd.read_excel(dict_path)\n",
    "#dictionary = dictionary[(dictionary['type'] == 'macro') & (dictionary['status'] == 'accept')]['name'].tolist()\n",
    "#raw.pick_channels(ch_names = dictionary)\n",
    "\n",
    "# Create a dummy numpy event array and MNE info object\n",
    "# and use them to create an empty dummy Raw channel\n",
    "events_info = mne.create_info(ch_names = ['events'], \n",
    "                              sfreq = raw.info['sfreq'], \n",
    "                              ch_types = ['stim'])\n",
    "\n",
    "empty_events = np.zeros((1, len(raw.times)))\n",
    "\n",
    "events_channel = mne.io.RawArray(data = empty_events, \n",
    "                                 info = events_info,\n",
    "                                 first_samp = first_raw_sample)"
   ]
  },
  {
   "attachments": {},
   "cell_type": "markdown",
   "metadata": {},
   "source": [
    "### Slow Waves"
   ]
  },
  {
   "cell_type": "code",
   "execution_count": 6,
   "metadata": {},
   "outputs": [],
   "source": [
    "# Load detected slow waves\n",
    "sw_times = pd.read_csv(sw_path)\n",
    "sw_times = sw_times[['Channel', 'Start', 'End', 'Duration', 'NegPeak', 'MidCrossing', 'PosPeak']]\n",
    "sw_times.columns = ['channel', 'start', 'end', 'duration', 'neg_peak', 'mid_cross', 'pos_peak']\n",
    "\n",
    "# Find MNE sample times for when SW's were present\n",
    "sw_times['sample'] = (sw_times.neg_peak * sampling_freq) + first_raw_sample\n",
    "sw_times['sample'] = sw_times['sample'].round(0).astype('int64')\n",
    "\n",
    "# Create a numpy array formatted according to MNE requirements\n",
    "# (please note that the dummy_0 column is just a spacer and has \n",
    "#  no meaning except internally to MNE, which expects 0's; \n",
    "#  however, the event_id column should contain the integer that\n",
    "#  corresponds to the relevant event in your event dictionary)\n",
    "sw_times['dummy_0'] = 0\n",
    "sw_times['event_id'] = 1"
   ]
  },
  {
   "attachments": {},
   "cell_type": "markdown",
   "metadata": {},
   "source": [
    "### K-Complexes"
   ]
  },
  {
   "cell_type": "code",
   "execution_count": 7,
   "metadata": {},
   "outputs": [],
   "source": [
    "# Load detected slow waves\n",
    "kc_times = pd.read_csv(kc_path)\n",
    "kc_times = kc_times[['Channel', 'Start', 'End', 'Duration', 'NegPeak', 'MidCrossing', 'PosPeak']]\n",
    "kc_times.columns = ['channel', 'start', 'end', 'duration', 'neg_peak', 'mid_cross', 'pos_peak']\n",
    "\n",
    "# Find MNE sample times for when SW's were present\n",
    "kc_times['sample'] = (kc_times.neg_peak * sampling_freq) + first_raw_sample\n",
    "kc_times['sample'] = kc_times['sample'].round(0).astype('int64')\n",
    "\n",
    "# Create a numpy array formatted according to MNE requirements\n",
    "# (please note that the dummy_0 column is just a spacer and has \n",
    "#  no meaning except internally to MNE, which expects 0's; \n",
    "#  however, the event_id column should contain the integer that\n",
    "#  corresponds to the relevant event in your event dictionary)\n",
    "kc_times['dummy_0'] = 0\n",
    "kc_times['event_id'] = 2"
   ]
  },
  {
   "attachments": {},
   "cell_type": "markdown",
   "metadata": {},
   "source": [
    "### Mark events and export by channel"
   ]
  },
  {
   "cell_type": "code",
   "execution_count": 8,
   "metadata": {},
   "outputs": [
    {
     "name": "stderr",
     "output_type": "stream",
     "text": [
      "  0%|          | 0/22 [00:00<?, ?it/s]"
     ]
    },
    {
     "name": "stdout",
     "output_type": "stream",
     "text": [
      "NOTE: pick_channels() is a legacy function. New code should use inst.pick(...).\n",
      "5125 events found\n",
      "Event IDs: [1 2 3]\n",
      "Not setting metadata\n",
      "5123 matching events found\n",
      "No baseline correction applied\n",
      "0 projection items activated\n",
      "Using data from preloaded Raw for 5123 events and 1025 original time points ...\n",
      "0 bad epochs dropped\n"
     ]
    },
    {
     "name": "stderr",
     "output_type": "stream",
     "text": [
      "  5%|▍         | 1/22 [00:03<01:15,  3.58s/it]"
     ]
    },
    {
     "name": "stdout",
     "output_type": "stream",
     "text": [
      "NOTE: pick_channels() is a legacy function. New code should use inst.pick(...).\n",
      "956 events found\n",
      "Event IDs: [1]\n",
      "Not setting metadata\n",
      "956 matching events found\n",
      "No baseline correction applied\n",
      "0 projection items activated\n",
      "Using data from preloaded Raw for 956 events and 1025 original time points ...\n",
      "0 bad epochs dropped\n"
     ]
    },
    {
     "name": "stderr",
     "output_type": "stream",
     "text": [
      "  9%|▉         | 2/22 [00:05<00:51,  2.56s/it]"
     ]
    },
    {
     "name": "stdout",
     "output_type": "stream",
     "text": [
      "NOTE: pick_channels() is a legacy function. New code should use inst.pick(...).\n",
      "1851 events found\n",
      "Event IDs: [1]\n",
      "Not setting metadata\n",
      "1851 matching events found\n",
      "No baseline correction applied\n",
      "0 projection items activated\n",
      "Using data from preloaded Raw for 1851 events and 1025 original time points ...\n",
      "0 bad epochs dropped\n"
     ]
    },
    {
     "name": "stderr",
     "output_type": "stream",
     "text": [
      " 14%|█▎        | 3/22 [00:07<00:45,  2.39s/it]"
     ]
    },
    {
     "name": "stdout",
     "output_type": "stream",
     "text": [
      "NOTE: pick_channels() is a legacy function. New code should use inst.pick(...).\n",
      "5275 events found\n",
      "Event IDs: [1 2 3]\n",
      "Not setting metadata\n",
      "5269 matching events found\n",
      "No baseline correction applied\n",
      "0 projection items activated\n",
      "Using data from preloaded Raw for 5269 events and 1025 original time points ...\n",
      "0 bad epochs dropped\n"
     ]
    },
    {
     "name": "stderr",
     "output_type": "stream",
     "text": [
      " 18%|█▊        | 4/22 [00:11<00:53,  2.96s/it]"
     ]
    },
    {
     "name": "stdout",
     "output_type": "stream",
     "text": [
      "NOTE: pick_channels() is a legacy function. New code should use inst.pick(...).\n",
      "1006 events found\n",
      "Event IDs: [1]\n",
      "Not setting metadata\n",
      "1006 matching events found\n",
      "No baseline correction applied\n",
      "0 projection items activated\n",
      "Using data from preloaded Raw for 1006 events and 1025 original time points ...\n",
      "0 bad epochs dropped\n"
     ]
    },
    {
     "name": "stderr",
     "output_type": "stream",
     "text": [
      " 23%|██▎       | 5/22 [00:13<00:43,  2.55s/it]"
     ]
    },
    {
     "name": "stdout",
     "output_type": "stream",
     "text": [
      "NOTE: pick_channels() is a legacy function. New code should use inst.pick(...).\n",
      "1575 events found\n",
      "Event IDs: [1]\n",
      "Not setting metadata\n",
      "1575 matching events found\n",
      "No baseline correction applied\n",
      "0 projection items activated\n",
      "Using data from preloaded Raw for 1575 events and 1025 original time points ...\n",
      "0 bad epochs dropped\n"
     ]
    },
    {
     "name": "stderr",
     "output_type": "stream",
     "text": [
      " 27%|██▋       | 6/22 [00:15<00:39,  2.45s/it]"
     ]
    },
    {
     "name": "stdout",
     "output_type": "stream",
     "text": [
      "NOTE: pick_channels() is a legacy function. New code should use inst.pick(...).\n",
      "1579 events found\n",
      "Event IDs: [1]\n",
      "Not setting metadata\n",
      "1579 matching events found\n",
      "No baseline correction applied\n",
      "0 projection items activated\n",
      "Using data from preloaded Raw for 1579 events and 1025 original time points ...\n",
      "0 bad epochs dropped\n"
     ]
    },
    {
     "name": "stderr",
     "output_type": "stream",
     "text": [
      " 32%|███▏      | 7/22 [00:17<00:34,  2.33s/it]"
     ]
    },
    {
     "name": "stdout",
     "output_type": "stream",
     "text": [
      "NOTE: pick_channels() is a legacy function. New code should use inst.pick(...).\n",
      "2065 events found\n",
      "Event IDs: [1]\n",
      "Not setting metadata\n",
      "2065 matching events found\n",
      "No baseline correction applied\n",
      "0 projection items activated\n",
      "Using data from preloaded Raw for 2065 events and 1025 original time points ...\n",
      "0 bad epochs dropped\n"
     ]
    },
    {
     "name": "stderr",
     "output_type": "stream",
     "text": [
      " 36%|███▋      | 8/22 [00:20<00:33,  2.37s/it]"
     ]
    },
    {
     "name": "stdout",
     "output_type": "stream",
     "text": [
      "NOTE: pick_channels() is a legacy function. New code should use inst.pick(...).\n",
      "1356 events found\n",
      "Event IDs: [1]\n",
      "Not setting metadata\n",
      "1356 matching events found\n",
      "No baseline correction applied\n",
      "0 projection items activated\n",
      "Using data from preloaded Raw for 1356 events and 1025 original time points ...\n",
      "0 bad epochs dropped\n"
     ]
    },
    {
     "name": "stderr",
     "output_type": "stream",
     "text": [
      " 41%|████      | 9/22 [00:21<00:28,  2.23s/it]"
     ]
    },
    {
     "name": "stdout",
     "output_type": "stream",
     "text": [
      "NOTE: pick_channels() is a legacy function. New code should use inst.pick(...).\n",
      "2210 events found\n",
      "Event IDs: [1]\n",
      "Not setting metadata\n",
      "2210 matching events found\n",
      "No baseline correction applied\n",
      "0 projection items activated\n",
      "Using data from preloaded Raw for 2210 events and 1025 original time points ...\n",
      "0 bad epochs dropped\n"
     ]
    },
    {
     "name": "stderr",
     "output_type": "stream",
     "text": [
      " 45%|████▌     | 10/22 [00:24<00:27,  2.31s/it]"
     ]
    },
    {
     "name": "stdout",
     "output_type": "stream",
     "text": [
      "NOTE: pick_channels() is a legacy function. New code should use inst.pick(...).\n",
      "4561 events found\n",
      "Event IDs: [1 2 3]\n",
      "Not setting metadata\n",
      "4559 matching events found\n",
      "No baseline correction applied\n",
      "0 projection items activated\n",
      "Using data from preloaded Raw for 4559 events and 1025 original time points ...\n",
      "0 bad epochs dropped\n"
     ]
    },
    {
     "name": "stderr",
     "output_type": "stream",
     "text": [
      " 50%|█████     | 11/22 [00:27<00:28,  2.61s/it]"
     ]
    },
    {
     "name": "stdout",
     "output_type": "stream",
     "text": [
      "NOTE: pick_channels() is a legacy function. New code should use inst.pick(...).\n",
      "3278 events found\n",
      "Event IDs: [1]\n",
      "Not setting metadata\n",
      "3278 matching events found\n",
      "No baseline correction applied\n",
      "0 projection items activated\n",
      "Using data from preloaded Raw for 3278 events and 1025 original time points ...\n",
      "0 bad epochs dropped\n"
     ]
    },
    {
     "name": "stderr",
     "output_type": "stream",
     "text": [
      " 55%|█████▍    | 12/22 [00:30<00:26,  2.66s/it]"
     ]
    },
    {
     "name": "stdout",
     "output_type": "stream",
     "text": [
      "NOTE: pick_channels() is a legacy function. New code should use inst.pick(...).\n",
      "1497 events found\n",
      "Event IDs: [1]\n",
      "Not setting metadata\n",
      "1497 matching events found\n",
      "No baseline correction applied\n",
      "0 projection items activated\n",
      "Using data from preloaded Raw for 1497 events and 1025 original time points ...\n",
      "0 bad epochs dropped\n"
     ]
    },
    {
     "name": "stderr",
     "output_type": "stream",
     "text": [
      " 59%|█████▉    | 13/22 [00:32<00:22,  2.50s/it]"
     ]
    },
    {
     "name": "stdout",
     "output_type": "stream",
     "text": [
      "NOTE: pick_channels() is a legacy function. New code should use inst.pick(...).\n",
      "2855 events found\n",
      "Event IDs: [1]\n",
      "Not setting metadata\n",
      "2855 matching events found\n",
      "No baseline correction applied\n",
      "0 projection items activated\n",
      "Using data from preloaded Raw for 2855 events and 1025 original time points ...\n",
      "0 bad epochs dropped\n"
     ]
    },
    {
     "name": "stderr",
     "output_type": "stream",
     "text": [
      " 64%|██████▎   | 14/22 [00:35<00:19,  2.50s/it]"
     ]
    },
    {
     "name": "stdout",
     "output_type": "stream",
     "text": [
      "NOTE: pick_channels() is a legacy function. New code should use inst.pick(...).\n",
      "5334 events found\n",
      "Event IDs: [1 2 3]\n",
      "Not setting metadata\n",
      "5330 matching events found\n",
      "No baseline correction applied\n",
      "0 projection items activated\n",
      "Using data from preloaded Raw for 5330 events and 1025 original time points ...\n",
      "0 bad epochs dropped\n"
     ]
    },
    {
     "name": "stderr",
     "output_type": "stream",
     "text": [
      " 68%|██████▊   | 15/22 [00:38<00:19,  2.79s/it]"
     ]
    },
    {
     "name": "stdout",
     "output_type": "stream",
     "text": [
      "NOTE: pick_channels() is a legacy function. New code should use inst.pick(...).\n",
      "2559 events found\n",
      "Event IDs: [1]\n",
      "Not setting metadata\n",
      "2559 matching events found\n",
      "No baseline correction applied\n",
      "0 projection items activated\n",
      "Using data from preloaded Raw for 2559 events and 1025 original time points ...\n",
      "0 bad epochs dropped\n"
     ]
    },
    {
     "name": "stderr",
     "output_type": "stream",
     "text": [
      " 73%|███████▎  | 16/22 [00:41<00:16,  2.68s/it]"
     ]
    },
    {
     "name": "stdout",
     "output_type": "stream",
     "text": [
      "NOTE: pick_channels() is a legacy function. New code should use inst.pick(...).\n",
      "1511 events found\n",
      "Event IDs: [1]\n",
      "Not setting metadata\n",
      "1511 matching events found\n",
      "No baseline correction applied\n",
      "0 projection items activated\n",
      "Using data from preloaded Raw for 1511 events and 1025 original time points ...\n",
      "0 bad epochs dropped\n"
     ]
    },
    {
     "name": "stderr",
     "output_type": "stream",
     "text": [
      " 77%|███████▋  | 17/22 [00:42<00:12,  2.43s/it]"
     ]
    },
    {
     "name": "stdout",
     "output_type": "stream",
     "text": [
      "NOTE: pick_channels() is a legacy function. New code should use inst.pick(...).\n",
      "2152 events found\n",
      "Event IDs: [1]\n",
      "Not setting metadata\n",
      "2152 matching events found\n",
      "No baseline correction applied\n",
      "0 projection items activated\n",
      "Using data from preloaded Raw for 2152 events and 1025 original time points ...\n",
      "0 bad epochs dropped\n"
     ]
    },
    {
     "name": "stderr",
     "output_type": "stream",
     "text": [
      " 82%|████████▏ | 18/22 [00:45<00:09,  2.34s/it]"
     ]
    },
    {
     "name": "stdout",
     "output_type": "stream",
     "text": [
      "NOTE: pick_channels() is a legacy function. New code should use inst.pick(...).\n",
      "2037 events found\n",
      "Event IDs: [1]\n",
      "Not setting metadata\n",
      "2037 matching events found\n",
      "No baseline correction applied\n",
      "0 projection items activated\n",
      "Using data from preloaded Raw for 2037 events and 1025 original time points ...\n",
      "0 bad epochs dropped\n"
     ]
    },
    {
     "name": "stderr",
     "output_type": "stream",
     "text": [
      " 86%|████████▋ | 19/22 [00:47<00:06,  2.29s/it]"
     ]
    },
    {
     "name": "stdout",
     "output_type": "stream",
     "text": [
      "NOTE: pick_channels() is a legacy function. New code should use inst.pick(...).\n",
      "3440 events found\n",
      "Event IDs: [1 2]\n",
      "Not setting metadata\n",
      "3440 matching events found\n",
      "No baseline correction applied\n",
      "0 projection items activated\n",
      "Using data from preloaded Raw for 3440 events and 1025 original time points ...\n",
      "0 bad epochs dropped\n"
     ]
    },
    {
     "name": "stderr",
     "output_type": "stream",
     "text": [
      " 91%|█████████ | 20/22 [00:49<00:04,  2.40s/it]"
     ]
    },
    {
     "name": "stdout",
     "output_type": "stream",
     "text": [
      "NOTE: pick_channels() is a legacy function. New code should use inst.pick(...).\n",
      "993 events found\n",
      "Event IDs: [1]\n",
      "Not setting metadata\n",
      "993 matching events found\n",
      "No baseline correction applied\n",
      "0 projection items activated\n",
      "Using data from preloaded Raw for 993 events and 1025 original time points ...\n",
      "0 bad epochs dropped\n"
     ]
    },
    {
     "name": "stderr",
     "output_type": "stream",
     "text": [
      " 95%|█████████▌| 21/22 [00:51<00:02,  2.20s/it]"
     ]
    },
    {
     "name": "stdout",
     "output_type": "stream",
     "text": [
      "NOTE: pick_channels() is a legacy function. New code should use inst.pick(...).\n",
      "3957 events found\n",
      "Event IDs: [1 2 3]\n",
      "Not setting metadata\n",
      "3955 matching events found\n",
      "No baseline correction applied\n",
      "0 projection items activated\n",
      "Using data from preloaded Raw for 3955 events and 1025 original time points ...\n",
      "0 bad epochs dropped\n"
     ]
    },
    {
     "name": "stderr",
     "output_type": "stream",
     "text": [
      "100%|██████████| 22/22 [00:54<00:00,  2.48s/it]\n"
     ]
    }
   ],
   "source": [
    "event_frame = pd.DataFrame()\n",
    "\n",
    "# Loop through only those channels with detected SW or KC\n",
    "sw_kc_channels = pd.concat([sw_times['channel'], kc_times['channel']]).unique()\n",
    "\n",
    "for channel in tqdm(sw_kc_channels):\n",
    "\n",
    "    # Create a channel-specific Raw object\n",
    "    temp_raw = raw.copy().pick_channels(ch_names = [channel])\n",
    "\n",
    "    # Create channel-specific Event numpy arrays\n",
    "    chan_sw = np.array(sw_times[sw_times.channel == channel][['sample', 'dummy_0', 'event_id']])\n",
    "    chan_kc = np.array(kc_times[kc_times.channel == channel][['sample', 'dummy_0', 'event_id']])\n",
    "\n",
    "    # Add the empty dummy channel to the data\n",
    "    temp_raw.add_channels([events_channel], force_update_info = True)\n",
    "\n",
    "    # Now update the dummy events ('stim') channel with the \n",
    "    # event times and then convert them to MNE events\n",
    "    event_dictionary = {'slow_wave' : 1}\n",
    "    \n",
    "    temp_raw.add_events(chan_sw, 'events')\n",
    "\n",
    "    # If any K-Complexes were detected, overwrite above\n",
    "    if (len(chan_kc) > 0):\n",
    "\n",
    "        event_dictionary = {'slow_wave' : 1,\n",
    "                            'k_complex' : 2}\n",
    "        \n",
    "        temp_raw.add_events(chan_kc, 'events')\n",
    "\n",
    "    # Find events\n",
    "    events = mne.find_events(raw = temp_raw, \n",
    "                             shortest_event = 1, # include events of length 1 sample \n",
    "                             initial_event = True) # include events occuring at sample 0\n",
    "\n",
    "    # Create an MNE Epochs object using the modified MNE Raw object\n",
    "    epochs = mne.Epochs(temp_raw, \n",
    "                        preload = True, \n",
    "                        events = events, \n",
    "                        event_id = event_dictionary, \n",
    "                        baseline = None, \n",
    "                        verbose = True, \n",
    "                        tmin = -2, \n",
    "                        tmax = 2, \n",
    "                        decim = 1)\n",
    "\n",
    "    # Drop the event channel before exporting data\n",
    "    epochs = epochs.drop_channels(['events'])\n",
    "\n",
    "    # Format the Epochs object into a pandas dataframe\n",
    "    epochs = epochs.to_data_frame(scalings = dict(seeg = 1e6, eeg = 1e6))\n",
    "    epochs = epochs.set_index(['time', 'condition', 'epoch']).stack().reset_index()\n",
    "    epochs.columns = ['time', 'condition', 'epoch', 'channel', 'value']\n",
    "\n",
    "    # Average sleep events within channel (optional)\n",
    "    epochs.drop(columns = ['epoch'], inplace = True)\n",
    "    epochs = epochs.groupby(['time', 'condition', 'channel']).mean().reset_index()\n",
    "\n",
    "    # Get data and annotate event type (SW/KC)\n",
    "    event_frame = pd.concat([event_frame, epochs])"
   ]
  },
  {
   "cell_type": "code",
   "execution_count": 9,
   "metadata": {},
   "outputs": [],
   "source": [
    "event_frame.to_csv(save_path)"
   ]
  }
 ],
 "metadata": {
  "kernelspec": {
   "display_name": "sandbox",
   "language": "python",
   "name": "python3"
  },
  "language_info": {
   "codemirror_mode": {
    "name": "ipython",
    "version": 3
   },
   "file_extension": ".py",
   "mimetype": "text/x-python",
   "name": "python",
   "nbconvert_exporter": "python",
   "pygments_lexer": "ipython3",
   "version": "3.11.4"
  },
  "orig_nbformat": 4,
  "vscode": {
   "interpreter": {
    "hash": "bceaa3bdda3825794b37c15d2000316b6f4a45a3d4f5e14660beed4f1d5f7638"
   }
  }
 },
 "nbformat": 4,
 "nbformat_minor": 2
}
