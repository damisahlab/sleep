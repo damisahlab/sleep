{
 "cells": [
  {
   "attachments": {},
   "cell_type": "markdown",
   "metadata": {},
   "source": [
    "### Configuration"
   ]
  },
  {
   "cell_type": "code",
   "execution_count": 1,
   "metadata": {},
   "outputs": [],
   "source": [
    "import os\n",
    "import numpy as np\n",
    "import pandas as pd\n",
    "import cebra\n",
    "from scipy.stats import zscore\n",
    "from sklearn.decomposition import PCA"
   ]
  },
  {
   "cell_type": "code",
   "execution_count": 2,
   "metadata": {},
   "outputs": [
    {
     "data": {
      "text/plain": [
       "'g:\\\\My Drive\\\\Residency\\\\Research\\\\Lab - Damisah\\\\Project - Sleep'"
      ]
     },
     "execution_count": 2,
     "metadata": {},
     "output_type": "execute_result"
    }
   ],
   "source": [
    "import utils__config\n",
    "os.chdir(utils__config.working_directory)\n",
    "os.getcwd()"
   ]
  },
  {
   "attachments": {},
   "cell_type": "markdown",
   "metadata": {},
   "source": [
    "### Parameters"
   ]
  },
  {
   "cell_type": "code",
   "execution_count": 3,
   "metadata": {},
   "outputs": [],
   "source": [
    "# hypno_path = 'Cache/Subject01/S01_hypno_epochs_1s.csv' \n",
    "# lfp_path = 'Cache/Subject01/S01_sw_epochs_1s.csv'\n",
    "# spike_path = 'Cache/Subject01/S01_spike_epochs_1s.csv'\n",
    "# key_prefix = 'S01_Feb02_'\n",
    "\n",
    "# hypno_path = 'Cache/Subject02/Apr26/S02_hypno_epochs_1s.csv' \n",
    "# lfp_path = 'Cache/Subject02/Apr26/S02_sw_epochs_1s.csv'\n",
    "# spike_path = 'Cache/Subject02/Apr26/S02_spike_epochs_1s.csv'\n",
    "# key_prefix = 'S02_Apr26_'\n",
    "\n",
    "hypno_path = 'Cache/Subject02/Apr26/S02_hypno_epochs_1s.csv' \n",
    "lfp_path = 'Cache/Subject02/Apr26/S02_sw_epochs_1s.csv'\n",
    "spike_path = 'Cache/Subject02/Apr26/S02_spike_epochs_1s.csv'\n",
    "key_prefix = 'S02_Apr27_'"
   ]
  },
  {
   "cell_type": "code",
   "execution_count": 4,
   "metadata": {},
   "outputs": [],
   "source": [
    "micro_regions = ['CLA']\n",
    "hdf5_path = 'Cache/cebra_data.h5'"
   ]
  },
  {
   "attachments": {},
   "cell_type": "markdown",
   "metadata": {},
   "source": [
    "### Reformat Data"
   ]
  },
  {
   "cell_type": "code",
   "execution_count": 10,
   "metadata": {},
   "outputs": [],
   "source": [
    "# Load Data\n",
    "hypno = pd.read_csv(hypno_path)\n",
    "lfp = pd.read_csv(lfp_path)\n",
    "spikes = pd.read_csv(spike_path)\n",
    "\n",
    "# Extract zSWA for all channels\n",
    "lfp = lfp.pivot(index = 'epoch', columns = 'channel', values = 'zlog_power')\n",
    "lfp.reset_index(drop = True, inplace = True)\n",
    "lfp.columns.name = None\n",
    "\n",
    "# PCA of zSWA of all channels, pick top 3 PC's\n",
    "lfp_pca = PCA(n_components = 3, random_state = 42)\n",
    "lfp_pca = lfp_pca.fit_transform(lfp)\n",
    "lfp = pd.DataFrame(data = lfp_pca, columns = ['zSWA_PC1', 'zSWA_PC2', 'zSWA_PC3'])\n",
    "\n",
    "# Extract zFR for units in the selected regions\n",
    "spikes = spikes[spikes.unit_region.isin(micro_regions)]\n",
    "spikes['zfr'] = spikes.groupby(['unit_id'])['fr'].transform(zscore).round(3)\n",
    "spikes = spikes.pivot(index = 'epoch', columns = 'unit_id', values = 'zfr')\n",
    "spikes.reset_index(drop = True, inplace = True)\n",
    "spikes.columns.name = None\n",
    "\n",
    "# Save pandas DF's to HDF5 for reloading\n",
    "hypno.to_hdf(hdf5_path, key = key_prefix + 'hypno')\n",
    "lfp.to_hdf(hdf5_path, key = key_prefix + 'lfp')\n",
    "spikes.to_hdf(hdf5_path, key = key_prefix + 'spikes')"
   ]
  }
 ],
 "metadata": {
  "kernelspec": {
   "display_name": "sandbox",
   "language": "python",
   "name": "python3"
  },
  "language_info": {
   "codemirror_mode": {
    "name": "ipython",
    "version": 3
   },
   "file_extension": ".py",
   "mimetype": "text/x-python",
   "name": "python",
   "nbconvert_exporter": "python",
   "pygments_lexer": "ipython3",
   "version": "3.9.12"
  },
  "orig_nbformat": 4
 },
 "nbformat": 4,
 "nbformat_minor": 2
}
