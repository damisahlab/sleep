{
 "cells": [
  {
   "attachments": {},
   "cell_type": "markdown",
   "metadata": {},
   "source": [
    "### Configuration"
   ]
  },
  {
   "cell_type": "code",
   "execution_count": 1,
   "metadata": {},
   "outputs": [],
   "source": [
    "import os\n",
    "import re\n",
    "import numpy as np\n",
    "import pandas as pd\n",
    "import datetime\n",
    "\n",
    "from helpers_micro import wclus_to_pd"
   ]
  },
  {
   "cell_type": "code",
   "execution_count": 2,
   "metadata": {},
   "outputs": [
    {
     "data": {
      "text/plain": [
       "'C:\\\\Users\\\\lal85\\\\Desktop\\\\Project - Sleep'"
      ]
     },
     "execution_count": 2,
     "metadata": {},
     "output_type": "execute_result"
    }
   ],
   "source": [
    "import config\n",
    "os.chdir(config.working_directory)\n",
    "os.getcwd()"
   ]
  },
  {
   "attachments": {},
   "cell_type": "markdown",
   "metadata": {},
   "source": [
    "### Parameters"
   ]
  },
  {
   "cell_type": "code",
   "execution_count": 3,
   "metadata": {},
   "outputs": [],
   "source": [
    "cluster_dictionary = 'Data/cluster_dictionary.csv'\n",
    "\n",
    "# Subject 01\n",
    "subj_dir = 'Cache/Sorted/Subject_01'\n",
    "out_path = 'Cache/S01_spikes.csv'\n",
    "\n",
    "# Subject 02\n",
    "#subj_dir = 'Cache/Sorted/Subject_02'\n",
    "#out_path = 'Cache/S02_spikes.csv'"
   ]
  },
  {
   "attachments": {},
   "cell_type": "markdown",
   "metadata": {},
   "source": [
    "### Munging"
   ]
  },
  {
   "cell_type": "code",
   "execution_count": 5,
   "metadata": {},
   "outputs": [],
   "source": [
    "data = pd.DataFrame()\n",
    "\n",
    "# Loop through every directory one level below the root directory\n",
    "for channel_dir in os.listdir(subj_dir):\n",
    "\n",
    "    # Find and load the Waveclus output\n",
    "    wclus_output = os.path.join(subj_dir, channel_dir, 'times_' + channel_dir + '.mat')\n",
    "    spikes = wclus_to_pd(wclus_output)\n",
    "\n",
    "    # Create meta-data\n",
    "    spikes[['subject', 'date', 'electrode', 'ch_num', 'laterality', 'region']] = channel_dir.split('_')\n",
    "    spikes['unit_id'] = spikes['subject'] + '_' + spikes['ch_num'] + '_' + spikes['cluster_id'].astype('str')\n",
    "    spikes['channel_id'] = channel_dir\n",
    "    spikes.drop(['date', 'electrode'], axis = 1, inplace = True)\n",
    "\n",
    "    # Append to the master dataframe\n",
    "    data = pd.concat([data, spikes])"
   ]
  },
  {
   "cell_type": "code",
   "execution_count": null,
   "metadata": {},
   "outputs": [],
   "source": [
    "# Load the cluster labels and merge with spikes file\n",
    "cluster_labels = pd.read_table(cluster_dictionary)\n",
    "spikes = spikes.merge(cluster_labels, on = ['channel_id', 'cluster_id'])"
   ]
  },
  {
   "cell_type": "code",
   "execution_count": null,
   "metadata": {},
   "outputs": [],
   "source": [
    "data.to_csv(out_path)"
   ]
  }
 ],
 "metadata": {
  "kernelspec": {
   "display_name": "sandbox",
   "language": "python",
   "name": "python3"
  },
  "language_info": {
   "codemirror_mode": {
    "name": "ipython",
    "version": 3
   },
   "file_extension": ".py",
   "mimetype": "text/x-python",
   "name": "python",
   "nbconvert_exporter": "python",
   "pygments_lexer": "ipython3",
   "version": "3.9.13 | packaged by conda-forge | (main, May 27 2022, 16:50:36) [MSC v.1929 64 bit (AMD64)]"
  },
  "orig_nbformat": 4,
  "vscode": {
   "interpreter": {
    "hash": "bceaa3bdda3825794b37c15d2000316b6f4a45a3d4f5e14660beed4f1d5f7638"
   }
  }
 },
 "nbformat": 4,
 "nbformat_minor": 2
}
