{
 "cells": [
  {
   "attachments": {},
   "cell_type": "markdown",
   "metadata": {},
   "source": [
    "### Configuration"
   ]
  },
  {
   "cell_type": "code",
   "execution_count": 12,
   "metadata": {},
   "outputs": [],
   "source": [
    "import os\n",
    "import re\n",
    "import numpy as np\n",
    "import pandas as pd\n",
    "import datetime\n",
    "\n",
    "import mne\n",
    "from scipy.stats import zscore\n",
    "from tqdm import tqdm\n",
    "\n",
    "from utils__helpers_macro import hilbert_powerphase, hilbert_envelope\n",
    "from utils__helpers_epoch import epoch_sw, epoch_sw_2, epoch_spikes\n",
    "import utils__config"
   ]
  },
  {
   "cell_type": "code",
   "execution_count": 13,
   "metadata": {},
   "outputs": [
    {
     "data": {
      "text/plain": [
       "'Z:\\\\Layton\\\\Sleep_083023'"
      ]
     },
     "execution_count": 13,
     "metadata": {},
     "output_type": "execute_result"
    }
   ],
   "source": [
    "os.chdir(utils__config.working_directory)\n",
    "os.getcwd()"
   ]
  },
  {
   "attachments": {},
   "cell_type": "markdown",
   "metadata": {},
   "source": [
    "### Parameters"
   ]
  },
  {
   "attachments": {},
   "cell_type": "markdown",
   "metadata": {},
   "source": [
    "You will need to run this script once for **1s epochs** and once for **10s epochs.**"
   ]
  },
  {
   "cell_type": "code",
   "execution_count": 14,
   "metadata": {},
   "outputs": [],
   "source": [
    "fif_path = 'Cache/Subject05/Jul13/S05_Jul13_256hz.fif'\n",
    "bad_channel_path = 'Cache/Subject05/Jul13/S05_bad_channels.csv'\n",
    "hypno_path = 'Cache/Subject05/Jul13/S05_Jul13_hypnogram.csv' \n",
    "sw_path = 'Cache/Subject05/Jul13/S05_SW.csv'\n",
    "spike_path = 'Cache/Subject05/Jul13/S05_spikes.csv'\n",
    "sw_out_path = 'Cache/Subject05/Jul13/S05_sw_epochs_1s.csv'\n",
    "spike_out_path = 'Cache/Subject05/Jul13/S05_spike_epochs_1s.csv'\n",
    "hypno_out_path = 'Cache/Subject05/Jul13/S05_hypno_epochs_1s.csv' "
   ]
  },
  {
   "cell_type": "code",
   "execution_count": 15,
   "metadata": {},
   "outputs": [],
   "source": [
    "epoch_length = 1 # bin width in seconds\n",
    "sw_merge_threshold = 1 # how close SW's need to be for merging (in seconds)\n",
    "sampling_freq = 256 # (s.f. used to detect slow waves)\n",
    "hypno_sfreq = 256 # (s.f. used to make hypnogram)\n",
    "tmin = 'none' # datetime.datetime(2022, 4, 28, 0, 0, 0, 0, tzinfo = datetime.timezone.utc)\n",
    "tmax = 'none'\n",
    "n_jobs = -2"
   ]
  },
  {
   "attachments": {},
   "cell_type": "markdown",
   "metadata": {},
   "source": [
    "### Load Data"
   ]
  },
  {
   "cell_type": "code",
   "execution_count": 16,
   "metadata": {},
   "outputs": [
    {
     "name": "stdout",
     "output_type": "stream",
     "text": [
      "Opening raw data file Cache/Subject05/Jul13/S05_Jul13_256hz.fif...\n"
     ]
    },
    {
     "name": "stderr",
     "output_type": "stream",
     "text": [
      "C:\\Users\\lal85\\AppData\\Local\\Temp\\2\\ipykernel_28420\\580800819.py:1: RuntimeWarning: This filename (Cache/Subject05/Jul13/S05_Jul13_256hz.fif) does not conform to MNE naming conventions. All raw files should end with raw.fif, raw_sss.fif, raw_tsss.fif, _meg.fif, _eeg.fif, _ieeg.fif, raw.fif.gz, raw_sss.fif.gz, raw_tsss.fif.gz, _meg.fif.gz, _eeg.fif.gz or _ieeg.fif.gz\n",
      "  raw = mne.io.read_raw_fif(fif_path, preload = True, verbose = None)\n"
     ]
    },
    {
     "name": "stdout",
     "output_type": "stream",
     "text": [
      "    Range : 0 ... 7249663 =      0.000 ... 28318.996 secs\n",
      "Ready.\n",
      "Opening raw data file Z:\\Layton\\Sleep_083023\\Cache\\Subject05\\Jul13\\S05_Jul13_256hz-1.fif...\n",
      "    Range : 7249664 ... 9584639 =  28319.000 ... 37439.996 secs\n",
      "Ready.\n",
      "Reading 0 ... 9584639  =      0.000 ... 37439.996 secs...\n",
      "NOTE: pick_types() is a legacy function. New code should use inst.pick(...).\n"
     ]
    }
   ],
   "source": [
    "raw = mne.io.read_raw_fif(fif_path, preload = True, verbose = None)\n",
    "\n",
    "# Select only macroelectrodes\n",
    "raw.pick_types(seeg = True, ecog = True)\n",
    "\n",
    "# Remove rejected channels\n",
    "bad_channels = pd.read_csv(bad_channel_path)\n",
    "bad_channels = bad_channels[bad_channels['channel'].isin(raw.ch_names)]\n",
    "raw.drop_channels(ch_names = bad_channels['channel'].astype('string'))\n",
    "\n",
    "# Set the bin size; we set the stop interval\n",
    "# to the total length of the recording\n",
    "if tmin != 'none':\n",
    "\n",
    "    last_bin = int((tmax - tmin).seconds / epoch_length) # will use this later\n",
    "    bin_list = np.arange(0, (tmax - tmin).seconds + 1, epoch_length)\n",
    "\n",
    "# Define tmin/tmax as the start/end of recording if not specified\n",
    "else:\n",
    "    \n",
    "    tmin = raw.times[0]\n",
    "    tmax = raw.times[-1]\n",
    "\n",
    "    last_bin = int((tmax - tmin) / epoch_length) # will use this later\n",
    "    bin_list = np.arange(0, (tmax - tmin) + 1, epoch_length)"
   ]
  },
  {
   "attachments": {},
   "cell_type": "markdown",
   "metadata": {},
   "source": [
    "### Bin Hypnogram into Epochs"
   ]
  },
  {
   "cell_type": "code",
   "execution_count": 17,
   "metadata": {},
   "outputs": [],
   "source": [
    "hypno = pd.read_csv(hypno_path, header = None)\n",
    "hypno = hypno.reset_index()\n",
    "hypno.columns = ['idx', 'stage']\n",
    "\n",
    "# Bin the hypnogram into epochs based on sample number\n",
    "hypno['epoch'] = pd.cut(hypno['idx'], bins = bin_list * hypno_sfreq, labels = False, include_lowest = True)\n",
    "\n",
    "# Select the mode of the sleep stage within each epoch\n",
    "hypno = hypno.groupby(['epoch'])['stage'].agg(pd.Series.mode).reset_index()\n",
    "\n",
    "hypno.to_csv(hypno_out_path, index = False)"
   ]
  },
  {
   "attachments": {},
   "cell_type": "markdown",
   "metadata": {},
   "source": [
    "### Bin Delta Power into average per Epoch"
   ]
  },
  {
   "cell_type": "code",
   "execution_count": 18,
   "metadata": {},
   "outputs": [
    {
     "name": "stdout",
     "output_type": "stream",
     "text": [
      "Filtering raw data in 1 contiguous segment\n",
      "Setting up band-pass filter from 0.3 - 4 Hz\n",
      "\n",
      "FIR filter parameters\n",
      "---------------------\n",
      "Designing a one-pass, zero-phase, non-causal bandpass filter:\n",
      "- Windowed time-domain design (firwin) method\n",
      "- Hamming window with 0.0194 passband ripple and 53 dB stopband attenuation\n",
      "- Lower passband edge: 0.30\n",
      "- Lower transition bandwidth: 0.30 Hz (-6 dB cutoff frequency: 0.15 Hz)\n",
      "- Upper passband edge: 4.00 Hz\n",
      "- Upper transition bandwidth: 2.00 Hz (-6 dB cutoff frequency: 5.00 Hz)\n",
      "- Filter length: 2817 samples (11.004 s)\n",
      "\n"
     ]
    },
    {
     "name": "stderr",
     "output_type": "stream",
     "text": [
      "[Parallel(n_jobs=-2)]: Using backend LokyBackend with 31 concurrent workers.\n",
      "[Parallel(n_jobs=-2)]: Done  29 out of  49 | elapsed:    5.9s remaining:    4.0s\n",
      "[Parallel(n_jobs=-2)]: Done  39 out of  49 | elapsed:    6.4s remaining:    1.6s\n",
      "[Parallel(n_jobs=-2)]: Done  49 out of  49 | elapsed:    7.1s finished\n"
     ]
    },
    {
     "name": "stdout",
     "output_type": "stream",
     "text": [
      "Converting \"channel\" to \"category\"...\n",
      "Converting \"ch_type\" to \"category\"...\n"
     ]
    },
    {
     "name": "stderr",
     "output_type": "stream",
     "text": [
      "C:\\Users\\lal85\\AppData\\Local\\Temp\\2\\ipykernel_28420\\2950059664.py:8: FutureWarning: The default of observed=False is deprecated and will be changed to True in a future version of pandas. Pass observed=False to retain current behavior or observed=True to adopt the future default and silence this warning.\n",
      "  delta['zlog_power'] = delta.groupby(['channel'])['log_power'].transform(zscore)\n"
     ]
    },
    {
     "name": "stdout",
     "output_type": "stream",
     "text": [
      "Filtering raw data in 1 contiguous segment\n",
      "Setting up band-pass filter from 0.3 - 4 Hz\n",
      "\n",
      "FIR filter parameters\n",
      "---------------------\n",
      "Designing a one-pass, zero-phase, non-causal bandpass filter:\n",
      "- Windowed time-domain design (firwin) method\n",
      "- Hamming window with 0.0194 passband ripple and 53 dB stopband attenuation\n",
      "- Lower passband edge: 0.30\n",
      "- Lower transition bandwidth: 0.30 Hz (-6 dB cutoff frequency: 0.15 Hz)\n",
      "- Upper passband edge: 4.00 Hz\n",
      "- Upper transition bandwidth: 2.00 Hz (-6 dB cutoff frequency: 5.00 Hz)\n",
      "- Filter length: 2817 samples (11.004 s)\n",
      "\n"
     ]
    },
    {
     "name": "stderr",
     "output_type": "stream",
     "text": [
      "[Parallel(n_jobs=-2)]: Using backend LokyBackend with 31 concurrent workers.\n",
      "[Parallel(n_jobs=-2)]: Done  29 out of  49 | elapsed:    3.7s remaining:    2.5s\n",
      "[Parallel(n_jobs=-2)]: Done  39 out of  49 | elapsed:    4.9s remaining:    1.2s\n",
      "[Parallel(n_jobs=-2)]: Done  49 out of  49 | elapsed:    5.8s finished\n"
     ]
    },
    {
     "name": "stdout",
     "output_type": "stream",
     "text": [
      "Converting \"channel\" to \"category\"...\n",
      "Converting \"ch_type\" to \"category\"...\n"
     ]
    },
    {
     "name": "stderr",
     "output_type": "stream",
     "text": [
      "C:\\Users\\lal85\\AppData\\Local\\Temp\\2\\ipykernel_28420\\2950059664.py:16: FutureWarning: The default of observed=False is deprecated and will be changed to True in a future version of pandas. Pass observed=False to retain current behavior or observed=True to adopt the future default and silence this warning.\n",
      "  delta_env['z_envelope'] = delta_env.groupby(['channel'])['envelope'].transform(zscore)\n",
      "C:\\Users\\lal85\\AppData\\Local\\Temp\\2\\ipykernel_28420\\2950059664.py:26: FutureWarning: The default of observed=False is deprecated and will be changed to True in a future version of pandas. Pass observed=False to retain current behavior or observed=True to adopt the future default and silence this warning.\n",
      "  delta = delta.groupby(['epoch', 'channel'])[['log_power', 'zlog_power', 'envelope', 'z_envelope']].mean().round(2).reset_index()\n"
     ]
    }
   ],
   "source": [
    "# Extract Power and Phase\n",
    "delta = raw.copy()\n",
    "delta = hilbert_powerphase(data = delta, lower = 0.3, upper = 4, njobs = n_jobs)\n",
    "delta = delta[['time', 'channel', 'power']]\n",
    "\n",
    "# Calculate z-score of power \n",
    "delta['log_power'] = 10 * np.log10(delta['power'])\n",
    "delta['zlog_power'] = delta.groupby(['channel'])['log_power'].transform(zscore)\n",
    "\n",
    "# Extract Envelope\n",
    "delta_env = raw.copy()\n",
    "delta_env = hilbert_envelope(data = delta_env, lower = 0.3, upper = 4, njobs = n_jobs)\n",
    "delta_env = delta_env[['time', 'channel', 'envelope']]\n",
    "\n",
    "# Calculate z-score of envelope\n",
    "delta_env['z_envelope'] = delta_env.groupby(['channel'])['envelope'].transform(zscore)\n",
    "\n",
    "# Combine Power/Phase and Envelope\n",
    "delta = delta.merge(delta_env, on = ['time', 'channel'])\n",
    "\n",
    "# Bin the data with integer bin labels (pandas.cut \n",
    "# by default will create bins open on the left)\n",
    "delta['epoch'] = pd.cut(delta['time'], bins = bin_list, labels = False)\n",
    "\n",
    "# Average delta power by Epoch\n",
    "delta = delta.groupby(['epoch', 'channel'])[['log_power', 'zlog_power', 'envelope', 'z_envelope']].mean().round(2).reset_index()"
   ]
  },
  {
   "attachments": {},
   "cell_type": "markdown",
   "metadata": {},
   "source": [
    "### Bin Beta Power into average per Epoch"
   ]
  },
  {
   "cell_type": "code",
   "execution_count": 19,
   "metadata": {},
   "outputs": [
    {
     "name": "stdout",
     "output_type": "stream",
     "text": [
      "Filtering raw data in 1 contiguous segment\n",
      "Setting up band-pass filter from 15 - 30 Hz\n",
      "\n",
      "FIR filter parameters\n",
      "---------------------\n",
      "Designing a one-pass, zero-phase, non-causal bandpass filter:\n",
      "- Windowed time-domain design (firwin) method\n",
      "- Hamming window with 0.0194 passband ripple and 53 dB stopband attenuation\n",
      "- Lower passband edge: 15.00\n",
      "- Lower transition bandwidth: 3.75 Hz (-6 dB cutoff frequency: 13.12 Hz)\n",
      "- Upper passband edge: 30.00 Hz\n",
      "- Upper transition bandwidth: 7.50 Hz (-6 dB cutoff frequency: 33.75 Hz)\n",
      "- Filter length: 227 samples (0.887 s)\n",
      "\n"
     ]
    },
    {
     "name": "stderr",
     "output_type": "stream",
     "text": [
      "[Parallel(n_jobs=-2)]: Using backend LokyBackend with 31 concurrent workers.\n",
      "[Parallel(n_jobs=-2)]: Done  29 out of  49 | elapsed:    8.7s remaining:    6.0s\n",
      "[Parallel(n_jobs=-2)]: Done  39 out of  49 | elapsed:    9.3s remaining:    2.3s\n",
      "[Parallel(n_jobs=-2)]: Done  49 out of  49 | elapsed:    9.8s finished\n"
     ]
    },
    {
     "name": "stdout",
     "output_type": "stream",
     "text": [
      "Converting \"channel\" to \"category\"...\n",
      "Converting \"ch_type\" to \"category\"...\n"
     ]
    },
    {
     "name": "stderr",
     "output_type": "stream",
     "text": [
      "C:\\Users\\lal85\\AppData\\Local\\Temp\\2\\ipykernel_28420\\2293257740.py:8: FutureWarning: The default of observed=False is deprecated and will be changed to True in a future version of pandas. Pass observed=False to retain current behavior or observed=True to adopt the future default and silence this warning.\n",
      "  beta['beta_zlog_power'] = beta.groupby(['channel'])['beta_log_power'].transform(zscore)\n",
      "C:\\Users\\lal85\\AppData\\Local\\Temp\\2\\ipykernel_28420\\2293257740.py:15: FutureWarning: The default of observed=False is deprecated and will be changed to True in a future version of pandas. Pass observed=False to retain current behavior or observed=True to adopt the future default and silence this warning.\n",
      "  beta = beta.groupby(['epoch', 'channel'])[['beta_log_power', 'beta_zlog_power']].mean().round(2).reset_index()\n"
     ]
    }
   ],
   "source": [
    "# Extract Power and Phase\n",
    "beta = raw.copy()\n",
    "beta = hilbert_powerphase(data = beta, lower = 15, upper = 30, njobs = n_jobs)\n",
    "beta = beta[['time', 'channel', 'power']]\n",
    "\n",
    "# Calculate z-score of power and envelope\n",
    "beta['beta_log_power'] = 10 * np.log10(beta['power'])\n",
    "beta['beta_zlog_power'] = beta.groupby(['channel'])['beta_log_power'].transform(zscore)\n",
    "\n",
    "# Bin the data with integer bin labels (pandas.cut \n",
    "# by default will create bins open on the left)\n",
    "beta['epoch'] = pd.cut(beta['time'], bins = bin_list, labels = False)\n",
    "\n",
    "# Average beta power by Epoch\n",
    "beta = beta.groupby(['epoch', 'channel'])[['beta_log_power', 'beta_zlog_power']].mean().round(2).reset_index()"
   ]
  },
  {
   "attachments": {},
   "cell_type": "markdown",
   "metadata": {},
   "source": [
    "### Bin SW's into duration per Epoch"
   ]
  },
  {
   "cell_type": "code",
   "execution_count": 20,
   "metadata": {},
   "outputs": [
    {
     "name": "stderr",
     "output_type": "stream",
     "text": [
      "  0%|          | 0/22 [00:00<?, ?it/s]z:\\Layton\\Sleep_083023\\Source\\utils__helpers_epoch.py:165: FutureWarning: The behavior of obj[i:j] with a float-dtype index is deprecated. In a future version, this will be treated as positional instead of label-based. For label-based slicing, use obj.loc[i:j] instead\n",
      "  bool_series[sw_row.start:sw_row.stop] = True\n",
      "  5%|▍         | 1/22 [00:00<00:11,  1.77it/s]z:\\Layton\\Sleep_083023\\Source\\utils__helpers_epoch.py:165: FutureWarning: The behavior of obj[i:j] with a float-dtype index is deprecated. In a future version, this will be treated as positional instead of label-based. For label-based slicing, use obj.loc[i:j] instead\n",
      "  bool_series[sw_row.start:sw_row.stop] = True\n",
      "  9%|▉         | 2/22 [00:01<00:11,  1.74it/s]z:\\Layton\\Sleep_083023\\Source\\utils__helpers_epoch.py:165: FutureWarning: The behavior of obj[i:j] with a float-dtype index is deprecated. In a future version, this will be treated as positional instead of label-based. For label-based slicing, use obj.loc[i:j] instead\n",
      "  bool_series[sw_row.start:sw_row.stop] = True\n",
      " 14%|█▎        | 3/22 [00:01<00:10,  1.76it/s]z:\\Layton\\Sleep_083023\\Source\\utils__helpers_epoch.py:165: FutureWarning: The behavior of obj[i:j] with a float-dtype index is deprecated. In a future version, this will be treated as positional instead of label-based. For label-based slicing, use obj.loc[i:j] instead\n",
      "  bool_series[sw_row.start:sw_row.stop] = True\n",
      " 18%|█▊        | 4/22 [00:02<00:10,  1.76it/s]z:\\Layton\\Sleep_083023\\Source\\utils__helpers_epoch.py:165: FutureWarning: The behavior of obj[i:j] with a float-dtype index is deprecated. In a future version, this will be treated as positional instead of label-based. For label-based slicing, use obj.loc[i:j] instead\n",
      "  bool_series[sw_row.start:sw_row.stop] = True\n",
      " 23%|██▎       | 5/22 [00:02<00:09,  1.76it/s]z:\\Layton\\Sleep_083023\\Source\\utils__helpers_epoch.py:165: FutureWarning: The behavior of obj[i:j] with a float-dtype index is deprecated. In a future version, this will be treated as positional instead of label-based. For label-based slicing, use obj.loc[i:j] instead\n",
      "  bool_series[sw_row.start:sw_row.stop] = True\n",
      " 27%|██▋       | 6/22 [00:03<00:09,  1.76it/s]z:\\Layton\\Sleep_083023\\Source\\utils__helpers_epoch.py:165: FutureWarning: The behavior of obj[i:j] with a float-dtype index is deprecated. In a future version, this will be treated as positional instead of label-based. For label-based slicing, use obj.loc[i:j] instead\n",
      "  bool_series[sw_row.start:sw_row.stop] = True\n",
      " 32%|███▏      | 7/22 [00:04<00:08,  1.72it/s]z:\\Layton\\Sleep_083023\\Source\\utils__helpers_epoch.py:165: FutureWarning: The behavior of obj[i:j] with a float-dtype index is deprecated. In a future version, this will be treated as positional instead of label-based. For label-based slicing, use obj.loc[i:j] instead\n",
      "  bool_series[sw_row.start:sw_row.stop] = True\n",
      " 36%|███▋      | 8/22 [00:04<00:08,  1.71it/s]z:\\Layton\\Sleep_083023\\Source\\utils__helpers_epoch.py:165: FutureWarning: The behavior of obj[i:j] with a float-dtype index is deprecated. In a future version, this will be treated as positional instead of label-based. For label-based slicing, use obj.loc[i:j] instead\n",
      "  bool_series[sw_row.start:sw_row.stop] = True\n",
      " 41%|████      | 9/22 [00:05<00:07,  1.71it/s]z:\\Layton\\Sleep_083023\\Source\\utils__helpers_epoch.py:165: FutureWarning: The behavior of obj[i:j] with a float-dtype index is deprecated. In a future version, this will be treated as positional instead of label-based. For label-based slicing, use obj.loc[i:j] instead\n",
      "  bool_series[sw_row.start:sw_row.stop] = True\n",
      " 45%|████▌     | 10/22 [00:05<00:07,  1.69it/s]z:\\Layton\\Sleep_083023\\Source\\utils__helpers_epoch.py:165: FutureWarning: The behavior of obj[i:j] with a float-dtype index is deprecated. In a future version, this will be treated as positional instead of label-based. For label-based slicing, use obj.loc[i:j] instead\n",
      "  bool_series[sw_row.start:sw_row.stop] = True\n",
      " 50%|█████     | 11/22 [00:06<00:06,  1.70it/s]z:\\Layton\\Sleep_083023\\Source\\utils__helpers_epoch.py:165: FutureWarning: The behavior of obj[i:j] with a float-dtype index is deprecated. In a future version, this will be treated as positional instead of label-based. For label-based slicing, use obj.loc[i:j] instead\n",
      "  bool_series[sw_row.start:sw_row.stop] = True\n",
      " 55%|█████▍    | 12/22 [00:06<00:05,  1.68it/s]z:\\Layton\\Sleep_083023\\Source\\utils__helpers_epoch.py:165: FutureWarning: The behavior of obj[i:j] with a float-dtype index is deprecated. In a future version, this will be treated as positional instead of label-based. For label-based slicing, use obj.loc[i:j] instead\n",
      "  bool_series[sw_row.start:sw_row.stop] = True\n",
      " 59%|█████▉    | 13/22 [00:07<00:05,  1.66it/s]z:\\Layton\\Sleep_083023\\Source\\utils__helpers_epoch.py:165: FutureWarning: The behavior of obj[i:j] with a float-dtype index is deprecated. In a future version, this will be treated as positional instead of label-based. For label-based slicing, use obj.loc[i:j] instead\n",
      "  bool_series[sw_row.start:sw_row.stop] = True\n",
      " 64%|██████▎   | 14/22 [00:08<00:04,  1.73it/s]z:\\Layton\\Sleep_083023\\Source\\utils__helpers_epoch.py:165: FutureWarning: The behavior of obj[i:j] with a float-dtype index is deprecated. In a future version, this will be treated as positional instead of label-based. For label-based slicing, use obj.loc[i:j] instead\n",
      "  bool_series[sw_row.start:sw_row.stop] = True\n",
      " 68%|██████▊   | 15/22 [00:08<00:03,  1.75it/s]z:\\Layton\\Sleep_083023\\Source\\utils__helpers_epoch.py:165: FutureWarning: The behavior of obj[i:j] with a float-dtype index is deprecated. In a future version, this will be treated as positional instead of label-based. For label-based slicing, use obj.loc[i:j] instead\n",
      "  bool_series[sw_row.start:sw_row.stop] = True\n",
      " 73%|███████▎  | 16/22 [00:09<00:03,  1.78it/s]z:\\Layton\\Sleep_083023\\Source\\utils__helpers_epoch.py:165: FutureWarning: The behavior of obj[i:j] with a float-dtype index is deprecated. In a future version, this will be treated as positional instead of label-based. For label-based slicing, use obj.loc[i:j] instead\n",
      "  bool_series[sw_row.start:sw_row.stop] = True\n",
      " 77%|███████▋  | 17/22 [00:09<00:02,  1.78it/s]z:\\Layton\\Sleep_083023\\Source\\utils__helpers_epoch.py:165: FutureWarning: The behavior of obj[i:j] with a float-dtype index is deprecated. In a future version, this will be treated as positional instead of label-based. For label-based slicing, use obj.loc[i:j] instead\n",
      "  bool_series[sw_row.start:sw_row.stop] = True\n",
      " 82%|████████▏ | 18/22 [00:10<00:02,  1.80it/s]z:\\Layton\\Sleep_083023\\Source\\utils__helpers_epoch.py:165: FutureWarning: The behavior of obj[i:j] with a float-dtype index is deprecated. In a future version, this will be treated as positional instead of label-based. For label-based slicing, use obj.loc[i:j] instead\n",
      "  bool_series[sw_row.start:sw_row.stop] = True\n",
      " 86%|████████▋ | 19/22 [00:10<00:01,  1.79it/s]z:\\Layton\\Sleep_083023\\Source\\utils__helpers_epoch.py:165: FutureWarning: The behavior of obj[i:j] with a float-dtype index is deprecated. In a future version, this will be treated as positional instead of label-based. For label-based slicing, use obj.loc[i:j] instead\n",
      "  bool_series[sw_row.start:sw_row.stop] = True\n",
      " 91%|█████████ | 20/22 [00:11<00:01,  1.80it/s]z:\\Layton\\Sleep_083023\\Source\\utils__helpers_epoch.py:165: FutureWarning: The behavior of obj[i:j] with a float-dtype index is deprecated. In a future version, this will be treated as positional instead of label-based. For label-based slicing, use obj.loc[i:j] instead\n",
      "  bool_series[sw_row.start:sw_row.stop] = True\n",
      " 95%|█████████▌| 21/22 [00:12<00:00,  1.80it/s]z:\\Layton\\Sleep_083023\\Source\\utils__helpers_epoch.py:165: FutureWarning: The behavior of obj[i:j] with a float-dtype index is deprecated. In a future version, this will be treated as positional instead of label-based. For label-based slicing, use obj.loc[i:j] instead\n",
      "  bool_series[sw_row.start:sw_row.stop] = True\n",
      "100%|██████████| 22/22 [00:12<00:00,  1.75it/s]\n"
     ]
    }
   ],
   "source": [
    "sw = epoch_sw_2(sw_path = sw_path, \n",
    "                tmin = tmin, \n",
    "                tmax = tmax, \n",
    "                merge_threshold = sw_merge_threshold, \n",
    "                sampling_freq = sampling_freq, \n",
    "                bin_list = bin_list)"
   ]
  },
  {
   "cell_type": "code",
   "execution_count": 21,
   "metadata": {},
   "outputs": [],
   "source": [
    "# Merge the Delta Power, Beta Power, and Slow Wave Duration data\n",
    "sw_delta = delta.merge(sw, on = ['epoch', 'channel'])\n",
    "sw_delta = sw_delta.merge(beta, on = ['epoch', 'channel'])\n",
    "\n",
    "sw_delta.to_csv(sw_out_path, index = False)"
   ]
  },
  {
   "attachments": {},
   "cell_type": "markdown",
   "metadata": {},
   "source": [
    "### Bin spikes into FR per Epoch"
   ]
  },
  {
   "cell_type": "code",
   "execution_count": 22,
   "metadata": {},
   "outputs": [],
   "source": [
    "spikes = epoch_spikes(spike_path = spike_path, \n",
    "                      bin_width = epoch_length, \n",
    "                      bin_list = bin_list, \n",
    "                      last_bin = last_bin)\n",
    "\n",
    "spikes.to_csv(spike_out_path, index = False)"
   ]
  }
 ],
 "metadata": {
  "kernelspec": {
   "display_name": "sandbox",
   "language": "python",
   "name": "python3"
  },
  "language_info": {
   "codemirror_mode": {
    "name": "ipython",
    "version": 3
   },
   "file_extension": ".py",
   "mimetype": "text/x-python",
   "name": "python",
   "nbconvert_exporter": "python",
   "pygments_lexer": "ipython3",
   "version": "3.11.4"
  },
  "orig_nbformat": 4,
  "vscode": {
   "interpreter": {
    "hash": "bceaa3bdda3825794b37c15d2000316b6f4a45a3d4f5e14660beed4f1d5f7638"
   }
  }
 },
 "nbformat": 4,
 "nbformat_minor": 2
}
