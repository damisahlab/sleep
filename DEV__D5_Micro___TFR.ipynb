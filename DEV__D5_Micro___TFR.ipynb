{
 "cells": [
  {
   "cell_type": "markdown",
   "metadata": {},
   "source": [
    "### Configuration"
   ]
  },
  {
   "cell_type": "code",
   "execution_count": 1,
   "metadata": {},
   "outputs": [],
   "source": [
    "import os\n",
    "import numpy as np\n",
    "import pandas as pd\n",
    "import xarray as xr\n",
    "\n",
    "import mne\n",
    "from mne.time_frequency import tfr_array_morlet\n",
    "from scipy.stats import zscore\n",
    "\n",
    "from utils__helpers_macro import hilbert_powerphase\n",
    "import utils__config"
   ]
  },
  {
   "cell_type": "code",
   "execution_count": 2,
   "metadata": {},
   "outputs": [
    {
     "data": {
      "text/plain": [
       "'Z:\\\\Layton\\\\Sleep_083023'"
      ]
     },
     "execution_count": 2,
     "metadata": {},
     "output_type": "execute_result"
    }
   ],
   "source": [
    "os.chdir(utils__config.working_directory)\n",
    "os.getcwd()"
   ]
  },
  {
   "cell_type": "markdown",
   "metadata": {},
   "source": [
    "### Parameters"
   ]
  },
  {
   "cell_type": "code",
   "execution_count": 3,
   "metadata": {},
   "outputs": [],
   "source": [
    "micro_fif_path = 'Cache/Subject05/Jul13/S05_Jul13_micro_1024hz.fif'\n",
    "tfr_path = 'Cache/Subject05/Jul13/S05_Jul13_micro_TFR_CLA_broad.csv'\n",
    "sampling_freq = 1024\n",
    "resample_frequency = 512 # frequency to resample to prior to Morlet (reduces memory usage)\n",
    "tfr_decimation = 3 # decimation by Morlet; reduces memory usage but removes the ability to keep true time!\n",
    "mean_bin_division = (resample_frequency / tfr_decimation) * 10 # division factor to bin samples into mean\n",
    "rolling_mean_samples = 3 # number of samples over which to calculate rolling mean"
   ]
  },
  {
   "cell_type": "markdown",
   "metadata": {},
   "source": [
    "### Format Data"
   ]
  },
  {
   "cell_type": "code",
   "execution_count": 4,
   "metadata": {},
   "outputs": [
    {
     "name": "stdout",
     "output_type": "stream",
     "text": [
      "Opening raw data file Cache/Subject05/Jul13/S05_Jul13_micro_1024hz.fif...\n"
     ]
    },
    {
     "name": "stderr",
     "output_type": "stream",
     "text": [
      "C:\\Users\\lal85\\AppData\\Local\\Temp\\2\\ipykernel_18856\\67950169.py:2: RuntimeWarning: This filename (Cache/Subject05/Jul13/S05_Jul13_micro_1024hz.fif) does not conform to MNE naming conventions. All raw files should end with raw.fif, raw_sss.fif, raw_tsss.fif, _meg.fif, _eeg.fif, _ieeg.fif, raw.fif.gz, raw_sss.fif.gz, raw_tsss.fif.gz, _meg.fif.gz, _eeg.fif.gz or _ieeg.fif.gz\n",
      "  raw = mne.io.read_raw_fif(micro_fif_path, preload = True, verbose = None)\n"
     ]
    },
    {
     "name": "stdout",
     "output_type": "stream",
     "text": [
      "    Range : 0 ... 8383487 =      0.000 ...  8186.999 secs\n",
      "Ready.\n",
      "Opening raw data file Z:\\Layton\\Sleep_083023\\Cache\\Subject05\\Jul13\\S05_Jul13_micro_1024hz-1.fif...\n",
      "    Range : 8383488 ... 16766975 =   8187.000 ... 16373.999 secs\n",
      "Ready.\n",
      "Opening raw data file Z:\\Layton\\Sleep_083023\\Cache\\Subject05\\Jul13\\S05_Jul13_micro_1024hz-2.fif...\n",
      "    Range : 16766976 ... 23003136 =  16374.000 ... 22464.000 secs\n",
      "Ready.\n",
      "Reading 0 ... 23003136  =      0.000 ... 22464.000 secs...\n",
      "NOTE: pick_channels() is a legacy function. New code should use inst.pick(...).\n"
     ]
    }
   ],
   "source": [
    "# Load Data\n",
    "raw = mne.io.read_raw_fif(micro_fif_path, preload = True, verbose = None)\n",
    "\n",
    "# Generate list of desired channel names\n",
    "desired_channels = [f\"Channel{n}\" for n in range(193, 200)]\n",
    "\n",
    "# Keep only the desired channels\n",
    "raw.pick_channels(desired_channels)\n",
    "\n",
    "# Decimate to reduce memory usage\n",
    "raw.resample(resample_frequency)\n",
    "\n",
    "# Save timestamps for later\n",
    "timestamps = raw.times\n",
    "\n",
    "if tfr_decimation > 1:\n",
    "    timestamps = timestamps[::tfr_decimation]\n",
    "\n",
    "# Format Data for tfr_array_morlet()\n",
    "ts_array = raw.get_data(units = dict(seeg = 'uV', eeg = 'uV'))\n",
    "ts_array = ts_array[np.newaxis, :, :]"
   ]
  },
  {
   "cell_type": "markdown",
   "metadata": {},
   "source": [
    "### Morlet Transform"
   ]
  },
  {
   "cell_type": "code",
   "execution_count": 5,
   "metadata": {},
   "outputs": [
    {
     "name": "stderr",
     "output_type": "stream",
     "text": [
      "[Parallel(n_jobs=-1)]: Using backend LokyBackend with 32 concurrent workers.\n",
      "[Parallel(n_jobs=-1)]: Done   2 out of   7 | elapsed:  2.4min remaining:  6.0min\n",
      "[Parallel(n_jobs=-1)]: Done   4 out of   7 | elapsed:  2.4min remaining:  1.8min\n",
      "[Parallel(n_jobs=-1)]: Done   7 out of   7 | elapsed:  2.5min finished\n"
     ]
    }
   ],
   "source": [
    "freqs = np.arange(1, 201, 3)\n",
    "#freqs = np.arange(1, 26, 1)\n",
    "\n",
    "# Create time-frequency representation\n",
    "# using the Morlet Wavelet transform:\n",
    "tfr = tfr_array_morlet(ts_array, \n",
    "                       sfreq = raw.info['sfreq'],\n",
    "                       freqs = freqs, \n",
    "                       n_cycles = 6.0,\n",
    "                       zero_mean = False, \n",
    "                       use_fft = True, \n",
    "                       decim = tfr_decimation, \n",
    "                       output = 'power', \n",
    "                       n_jobs = -1, \n",
    "                       verbose = None)\n",
    "\n",
    "# Remove the dummy dimension (that was required\n",
    "# due to formatting expectations of MNE Morlet):\n",
    "tfr = np.squeeze(tfr)\n",
    "\n",
    "# Convert to Xarray as an intermediate step in\n",
    "# getting data into Pandas long (2d) format:\n",
    "tfr = xr.DataArray(tfr,\n",
    "                   dims = ('channel', 'frequency', 'seconds'),\n",
    "                   coords = {'channel' : raw.ch_names,\n",
    "                             'frequency' : freqs,\n",
    "                             'seconds' : timestamps})\n",
    "\n",
    "tfr = tfr.to_dataframe(name = 'power').reset_index()"
   ]
  },
  {
   "cell_type": "markdown",
   "metadata": {},
   "source": [
    "### Time Bin for Convenience"
   ]
  },
  {
   "cell_type": "code",
   "execution_count": 6,
   "metadata": {},
   "outputs": [],
   "source": [
    "# Average 1 second values into 30s epoch values\n",
    "# (bin stop value is arbitrarily large, 1mil seconds is 277 hrs)\n",
    "# (alternative to the next two optional steps)\n",
    "bin_list = np.arange(0, 1000000, 30)\n",
    "\n",
    "tfr['epoch'] = pd.cut(tfr['seconds'], bins = bin_list, labels = False)\n",
    "tfr = tfr.groupby(['channel', 'frequency', 'epoch']).mean('power')\n",
    "tfr = tfr.reset_index()[['channel', 'frequency', 'epoch', 'power']]"
   ]
  },
  {
   "cell_type": "markdown",
   "metadata": {},
   "source": [
    "### Log Normalize by Frequency"
   ]
  },
  {
   "cell_type": "code",
   "execution_count": 7,
   "metadata": {},
   "outputs": [],
   "source": [
    "# Channel-wise and frequency-wise normalization, \n",
    "# since each channel (each one has a different\n",
    "# baseline power magnitude) and frequency (1/f):\n",
    "tfr['meanpower'] = tfr.groupby(['channel', 'frequency'])['power'].transform('mean')\n",
    "tfr['log_meanpower'] = 10 * np.log10(tfr['meanpower'])\n",
    "\n",
    "tfr['logpower'] = 10 * np.log10(tfr['power'])\n",
    "tfr['logpower_mean'] = tfr.groupby(['channel', 'frequency'])['logpower'].transform('mean')\n",
    "\n",
    "tfr['logmpower_freq'] = tfr['logpower'] - tfr['log_meanpower']\n",
    "tfr['logpower_freq'] = tfr['logpower'] - tfr['logpower_mean']\n",
    "\n",
    "tfr.drop(columns = ['meanpower', 'log_meanpower', 'logpower_mean'], inplace = True)\n",
    "\n",
    "# Now calculate frequency-wise zscores from the log(power)\n",
    "tfr['lmpf_zscore'] = tfr.groupby(['channel', 'frequency'])['logmpower_freq'].transform(zscore)\n",
    "tfr['lpf_zscore'] = tfr.groupby(['channel', 'frequency'])['logpower_freq'].transform(zscore)"
   ]
  },
  {
   "cell_type": "markdown",
   "metadata": {},
   "source": [
    "### Mean, Smooth, and/or Decimate"
   ]
  },
  {
   "cell_type": "code",
   "execution_count": 8,
   "metadata": {},
   "outputs": [],
   "source": [
    "# Rolling mean to smooth TFR (optional step)\n",
    "saved_epochs = tfr['epoch']\n",
    "\n",
    "tfr = tfr.groupby(['channel', 'frequency']).rolling(window = rolling_mean_samples, \n",
    "                                                    min_periods = 1, \n",
    "                                                    center = True, \n",
    "                                                    win_type = 'gaussian').mean()\n",
    "tfr = tfr.reset_index()\n",
    "tfr.drop(columns = ['level_2'], inplace = True)\n",
    "\n",
    "tfr['epoch'] = saved_epochs"
   ]
  },
  {
   "cell_type": "code",
   "execution_count": 9,
   "metadata": {},
   "outputs": [],
   "source": [
    "tfr.to_csv(tfr_path, index = False)"
   ]
  }
 ],
 "metadata": {
  "kernelspec": {
   "display_name": "Python 3",
   "language": "python",
   "name": "python3"
  },
  "language_info": {
   "codemirror_mode": {
    "name": "ipython",
    "version": 3
   },
   "file_extension": ".py",
   "mimetype": "text/x-python",
   "name": "python",
   "nbconvert_exporter": "python",
   "pygments_lexer": "ipython3",
   "version": "3.11.4"
  }
 },
 "nbformat": 4,
 "nbformat_minor": 2
}
