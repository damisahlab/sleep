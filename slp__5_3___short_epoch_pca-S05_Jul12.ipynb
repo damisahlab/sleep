{
 "cells": [
  {
   "attachments": {},
   "cell_type": "markdown",
   "metadata": {},
   "source": [
    "### Configuration"
   ]
  },
  {
   "cell_type": "code",
   "execution_count": 5,
   "metadata": {},
   "outputs": [],
   "source": [
    "import os\n",
    "import numpy as np\n",
    "import pandas as pd\n",
    "import xarray as xr\n",
    "\n",
    "from scipy.stats import zscore\n",
    "import plotly.express as px\n",
    "\n",
    "from utils__helpers_epoch import make_pca\n",
    "import utils__config"
   ]
  },
  {
   "cell_type": "code",
   "execution_count": 6,
   "metadata": {},
   "outputs": [
    {
     "data": {
      "text/plain": [
       "'Z:\\\\Layton\\\\Sleep_083023'"
      ]
     },
     "execution_count": 6,
     "metadata": {},
     "output_type": "execute_result"
    }
   ],
   "source": [
    "os.chdir(utils__config.working_directory)\n",
    "os.getcwd()"
   ]
  },
  {
   "attachments": {},
   "cell_type": "markdown",
   "metadata": {},
   "source": [
    "### Parameters"
   ]
  },
  {
   "cell_type": "code",
   "execution_count": 7,
   "metadata": {},
   "outputs": [],
   "source": [
    "spike_path = 'Cache/Subject05/Jul12/S05_spike_epochs_10s.csv'\n",
    "pca_out_path = 'Cache/Subject05/Jul12/S05_pca_10s_epochs.csv'"
   ]
  },
  {
   "attachments": {},
   "cell_type": "markdown",
   "metadata": {},
   "source": [
    "### PCA of Spiking Activity"
   ]
  },
  {
   "cell_type": "code",
   "execution_count": 8,
   "metadata": {},
   "outputs": [
    {
     "name": "stdout",
     "output_type": "stream",
     "text": [
      "[25.51052633]\n",
      "[32.75351925]\n",
      "[41.54003069]\n"
     ]
    }
   ],
   "source": [
    "# Load data and normalize FR within each unit\n",
    "spikes = pd.read_csv(spike_path)\n",
    "spikes['z_fr'] = spikes.groupby(['unit_id'])['fr'].transform(zscore)\n",
    "\n",
    "# PCA for right claustrum\n",
    "CLA = spikes[(spikes.unit_region == 'CLA')]\n",
    "\n",
    "CLA = CLA[['epoch', 'unit_id', 'z_fr']]\n",
    "CLA.columns = ['time', 'group', 'value']\n",
    "pca_CLA = make_pca(CLA, 'cla')\n",
    "\n",
    "# PCA for right amygdala\n",
    "AMY = spikes[(spikes.unit_region == 'AMY')]\n",
    "\n",
    "AMY = AMY[['epoch', 'unit_id', 'z_fr']]\n",
    "AMY.columns = ['time', 'group', 'value']\n",
    "pca_AMY = make_pca(AMY, 'amy')\n",
    "\n",
    "# PCA for right ACC\n",
    "ACC = spikes[(spikes.unit_region == 'ACC')]\n",
    "\n",
    "ACC = ACC[['epoch', 'unit_id', 'z_fr']]\n",
    "ACC.columns = ['time', 'group', 'value']\n",
    "pca_ACC = make_pca(ACC, 'acc')\n",
    "\n",
    "# Concatenate and export\n",
    "pca_data = pd.concat([pca_CLA, pca_AMY, pca_ACC], axis = 0)\n",
    "pca_data.to_csv(pca_out_path, index = False)"
   ]
  }
 ],
 "metadata": {
  "kernelspec": {
   "display_name": "sandbox",
   "language": "python",
   "name": "python3"
  },
  "language_info": {
   "codemirror_mode": {
    "name": "ipython",
    "version": 3
   },
   "file_extension": ".py",
   "mimetype": "text/x-python",
   "name": "python",
   "nbconvert_exporter": "python",
   "pygments_lexer": "ipython3",
   "version": "3.11.4"
  },
  "orig_nbformat": 4,
  "vscode": {
   "interpreter": {
    "hash": "bceaa3bdda3825794b37c15d2000316b6f4a45a3d4f5e14660beed4f1d5f7638"
   }
  }
 },
 "nbformat": 4,
 "nbformat_minor": 2
}
